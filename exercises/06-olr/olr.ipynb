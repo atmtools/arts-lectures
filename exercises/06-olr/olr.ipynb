{
 "cells": [
  {
   "cell_type": "code",
   "execution_count": null,
   "metadata": {},
   "outputs": [],
   "source": [
    "%matplotlib widget"
   ]
  },
  {
   "cell_type": "markdown",
   "metadata": {},
   "source": [
    "## Exercise No. 6 -- Outgoing Longwave Radiation (OLR)\n",
    "\n",
    "#### 1)\n",
    "\n",
    "Run ARTS on the Jupyter notebook olr.ipynb . This will calculate the spectrum\n",
    "of outgoing longwave radiation for a midlatitude-summer atmosphere.\n",
    "Our calculation trades accuracy for computational efficiency. For\n",
    "example, we use only water vapor and carbon dioxide as absorbers.\n",
    "We use only 300 frequency grid points and approximately 54,000 spectral\n",
    "lines, whereas for accurate calculations one needs at least 10,000\n",
    "frequency grid points and 500,000 spectral lines, taking into account\n",
    "absorbing species like ozone and methane. The script plots the spectral\n",
    "irradiance, in SI units, as a function of wavenumber. Planck curves\n",
    "for different temperatures are shown for comparison. We integrate\n",
    "the whole spectrum to quantify the power per square that is emitted\n",
    "by the atmosphere (value in title).\n",
    "\n",
    "* How would the OLR spectrum look in units of brightness temperature?\n",
    "* How would the Planck curves look in units of brightness temperature?\n",
    "* Find the $\\text{CO}_{2}$ absorption band and the regions of $\\text{H}_{2}\\text{O}$ \n",
    "absorption. From which height in the atmosphere does the radiation in the $\\text{CO}_{2}$ band originate?\n",
    "* Are there window regions?\n",
    "* What will determine the OLR in the window regions?\n",
    "* Use the plot to explain the atmospheric greenhouse effect."
   ]
  },
  {
   "cell_type": "code",
   "execution_count": null,
   "metadata": {},
   "outputs": [],
   "source": [
    "# Set path to line catalogue and xml-data\n",
    "import os\n",
    "# Uncomment and adjust the following lines\n",
    "# if ARTS_DATA_PATH is not set as environment variable\n",
    "# os.environ[\"ARTS_DATA_PATH\"] = \"your_path_to/arts-xml-data/:your_path_to/arts-cat-data/:\""
   ]
  },
  {
   "cell_type": "code",
   "execution_count": null,
   "metadata": {},
   "outputs": [],
   "source": [
    "import matplotlib.pyplot as plt\n",
    "import numpy as np\n",
    "from pyarts import xml\n",
    "from pyarts.arts import convert\n",
    "from olr_module import calc_olr_from_atmfield, Change_T_with_RH_const, cmap2rgba, planck\n"
   ]
  },
  {
   "cell_type": "code",
   "execution_count": null,
   "metadata": {},
   "outputs": [],
   "source": [
    "# Read input atmosphere\n",
    "atmfield = xml.load(\"input/midlatitude-summer.xml\")\n",
    "\n",
    "# Scale the CO2 concentration\n",
    "atmfield.scale(\"abs_species-CO2\", 1)\n",
    "\n",
    "# Add a constant value to the temperature\n",
    "atmfield.set(\"T\", atmfield.get(\"T\") + 0)\n",
    "\n",
    "# Add a constant value to the temperature but \n",
    "# without changing relative humidity \n",
    "atmfield = Change_T_with_RH_const(atmfield,DeltaT=0)\n",
    "\n",
    "# Calculate the outgoing-longwave radiation\n",
    "f, olr = calc_olr_from_atmfield(atmfield, verbosity=0)"
   ]
  },
  {
   "cell_type": "code",
   "execution_count": null,
   "metadata": {},
   "outputs": [],
   "source": []
  },
  {
   "cell_type": "code",
   "execution_count": null,
   "metadata": {},
   "outputs": [],
   "source": [
    "# Plotting.\n",
    "import matplotlib\n",
    "font = {'size'   : 24}\n",
    "matplotlib.rc('font', **font)\n",
    "\n",
    "wn = convert.freq2kaycm(f)\n",
    "\n",
    "temps = [225, 250, 275, atmfield.get(\"T\", keep_dims=False)[0]]\n",
    "temp_colors = cmap2rgba(\"plasma\", len(temps))\n",
    "\n",
    "fig, ax = plt.subplots()\n",
    "for t, color in sorted(zip(temps, temp_colors)):\n",
    "    ax.plot(\n",
    "        wn, np.pi * planck(f, t), label=f\"{t:3.1f} K\", color=color\n",
    "    )\n",
    "ax.plot(wn, olr, color=\"C0\", label=\"Irradiance\")\n",
    "ax.legend()\n",
    "ax.set_title(rf\"OLR={np.trapz(olr, f):3.2f} $\\sf Wm^{{-2}}$\")\n",
    "ax.set_xlim(wn.min(), wn.max())\n",
    "ax.set_xlabel(r\"Wavenumber [$\\sf cm^{-1}$]\")\n",
    "ax.set_ylabel(r\"Irradiance [$\\sf Wm^{-2}Hz^{-1}$]\")\n",
    "ax.set_ylim(bottom=0)\n",
    "fig.savefig(\"plots/olr.pdf\")"
   ]
  },
  {
   "cell_type": "markdown",
   "metadata": {},
   "source": [
    "#### 2) \n",
    "\n",
    "Investigate how the OLR changes for different atmospheric conditions\n",
    "by modifying the input data.  \n",
    "Use `atmfield.scale(...)`,\n",
    "`atmfield.set(...)` and `Change_T_with_RH_const(...)` to change the atmospheric data:\n",
    "\n",
    "* Add $1\\,\\,\\text{K}$ to the temperature.\n",
    "* Add $1\\,\\,\\text{K}$ to the temperature but hold relative humidity constant.\n",
    "* Increase the $\\text{CO}_{2}$ conentration by a factor of $2$.\n",
    "* Increase the $\\text{H}_{2}\\text{O}$ conentration by a factor of $1.2$.\n",
    "   \n",
    "1) Change it, and calculate and plot the spectrum for each change. \n",
    "2) Compare the spectra of the changed atmosphere with the unchanged OLR spectrum. Where\n",
    "   do the changes occur? Explain the differnt effects of the changed atmospheres.\n",
    "3) Compare the OLR numbers, which is the more potent greenhouse gas,\n",
    "$\\text{CO}_{2}$ or $\\text{H}_{2}\\text{O}$?"
   ]
  }
 ],
 "metadata": {
  "kernelspec": {
   "display_name": "Python 3 (ipykernel)",
   "language": "python",
   "name": "python3"
  },
  "language_info": {
   "codemirror_mode": {
    "name": "ipython",
    "version": 3
   },
   "file_extension": ".py",
   "mimetype": "text/x-python",
   "name": "python",
   "nbconvert_exporter": "python",
   "pygments_lexer": "ipython3",
   "version": "3.10.12"
  },
  "vscode": {
   "interpreter": {
    "hash": "6bd45fef6a38d15b43f43de43ba5066924911f80576952f97fb08adaede44831"
   }
  }
 },
 "nbformat": 4,
 "nbformat_minor": 4
}
