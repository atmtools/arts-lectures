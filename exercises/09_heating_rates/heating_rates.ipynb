{
 "cells": [
  {
   "cell_type": "markdown",
   "metadata": {},
   "source": [
    "# Advanced radiation and remote sensing\n",
    "\n",
    "\n",
    "Manfred Brath, Oliver Lemke\n",
    "\n",
    "## Exercise 9: Heating rate"
   ]
  },
  {
   "cell_type": "code",
   "execution_count": null,
   "metadata": {},
   "outputs": [],
   "source": [
    "%matplotlib widget\n",
    "\n",
    "\n",
    "# Set path to line catalogue\n",
    "import os\n",
    "# Uncomment and adjust the following lines\n",
    "# if ARTS_DATA_PATH is not set as environment variable\n",
    "# os.environ[\"ARTS_DATA_PATH\"] = \"your_path_to/arts-xml-data/:your_path_to/arts-cat-data/:\"\n",
    "\n",
    "import matplotlib.pyplot as plt\n",
    "import numpy as np\n",
    "import typhon as ty\n",
    "from pyarts import xml\n",
    "from heating_rates_module import (calc_spectral_irradiance, calc_irradiance,\n",
    "                                  integrate_spectral_irradiance)\n",
    "\n",
    "ty.plots.styles.use(\"typhon\")"
   ]
  },
  {
   "cell_type": "markdown",
   "metadata": {},
   "source": [
    "The heating rate denotes the change of atmospheric temperature with time due\n",
    "to gain or loss of energy. Here, we consider only the gain or loss due to\n",
    "radiation.\n",
    "The heating rate including only radiation is \n",
    "$\\frac{\\partial T\\left(z\\right)}{\\partial t}=-\\frac{1}{\\rho\\left( z \\right) c_p }\\frac{\\partial}{\\partial z}F_{net}\\left( z \\right)$\n",
    "with $\\rho\\left( z \\right)$ the density of dry air (To keep it simple, we assume dry air. \n",
    "In reality the air is not dry. Nonetheless, the differences are small.) , $c_p = 1.0035\\, \\text{J}\\, \\text{kg}^{-1} \\text{K}^{-1}$ the specific heat \n",
    "capacity of dry air and $F_{net}$ the net radiation flux. \n",
    "The net radiation flux is \n",
    "$F_{net}=F_{up}-F_{down}$\n",
    "with $F_{up}$ and $F_{down}$ the up- and downward radiation flux (irradiance), respectively. \n",
    "The density of dry air is \n",
    "$\\rho  =\\frac{p}{R_s\\,T}$\n",
    "with pressure $p$, temperature  $T$ and the specific gas constant \n",
    "$R_s = 287.058\\, \\text{J}\\,\\text{kg}^{-1} \\text{K}^{-1}$."
   ]
  },
  {
   "cell_type": "markdown",
   "metadata": {},
   "source": [
    "Before we start, we need to load an atmosphere."
   ]
  },
  {
   "cell_type": "code",
   "execution_count": null,
   "metadata": {},
   "outputs": [],
   "source": [
    "# Read input atmosphere\n",
    "atmfield = xml.load(\"input/midlatitude-summer.xml\")"
   ]
  },
  {
   "cell_type": "markdown",
   "metadata": {},
   "source": [
    "### 1)\n",
    "Run the next cell. This will calculate the upward and downward longwave radiation fluxes.  \n",
    "Here, we will consider only the longwave flux. Calculate the net flux and plot upward,  \n",
    "downward and net flux together in one figure against altitude. Explain the plot.  "
   ]
  },
  {
   "cell_type": "code",
   "execution_count": null,
   "metadata": {},
   "outputs": [],
   "source": [
    "# Calculate the radiation irradiance (flux)\n",
    "\n",
    "z, p, T, flux_downward, flux_upward = calc_irradiance(atmfield)"
   ]
  },
  {
   "cell_type": "code",
   "execution_count": null,
   "metadata": {},
   "outputs": [],
   "source": [
    "#  Calculate net flux and plot up-, down- and net flux\n"
   ]
  },
  {
   "cell_type": "markdown",
   "metadata": {},
   "source": [
    "### 2)\n",
    "Implement the function $\\texttt{calc\\_heatingrates(...)}$. Use the function to calculate  \n",
    "the heating rate. Plot the heating rate against altitude and explain the plot. How would  \n",
    "a heating rate in thermal equilibrium assuming only longwave radiation look like?  \n",
    "Why is the heating rate so much higher in the stratosphere than in the troposphere?"
   ]
  },
  {
   "cell_type": "code",
   "execution_count": null,
   "metadata": {},
   "outputs": [],
   "source": [
    "# Implement heating rate function\n",
    "\n",
    "def calc_heatingrates(z, p, T, Fnet):\n",
    "    \"\"\"Calculate the heating rate.\n",
    "\n",
    "    Parameters:\n",
    "        z (ndarray): Altitude [m].\n",
    "        p (ndarray): Pressure [Pa].\n",
    "        T (ndarray): Temperature [K].\n",
    "        Fnet (ndarray): Net flux [W m^-2].\n",
    "\n",
    "    Returns:\n",
    "        ndarray, ndarray:\n",
    "        Heating rate [K/d], Altitude [m].\n",
    "    \"\"\"\n",
    "\n",
    "\n",
    "\n",
    "\n",
    "    return NotImplementedError"
   ]
  },
  {
   "cell_type": "code",
   "execution_count": null,
   "metadata": {},
   "outputs": [],
   "source": [
    "# Calculate heating rate and plot it\n",
    "\n",
    "# HR,zp_lay = calc_heatingrates(z, p, T, net_flux)\n"
   ]
  },
  {
   "cell_type": "markdown",
   "metadata": {},
   "source": [
    "### 3)\n",
    "Calculate the spectral upward, downward and net flux using the function $\\texttt{calc\\_spectral\\_irradiance}$."
   ]
  },
  {
   "cell_type": "code",
   "execution_count": null,
   "metadata": {},
   "outputs": [],
   "source": [
    "# Calculate the spectral irradiance (spectral flux)\n",
    "\n",
    "f, z, p, T, spectral_flux_downward, spectral_flux_upward = calc_spectral_irradiance( atmfield, verbosity=1)\n"
   ]
  },
  {
   "cell_type": "markdown",
   "metadata": {},
   "source": [
    "### 4)\n",
    "Use the function $\\texttt{integrate\\_spectral\\_irradiance(...)}$ to integrate  \n",
    "the spectral irradiance over three continuing bands:\n",
    "\n",
    "* the far infrared\n",
    "* the $\\text{CO}_2$-band\n",
    "* the window-region and above.\n",
    "\n",
    "Calculate the heating rate for each band and plot them together with the total  \n",
    "heating rate from Task 2. Compare the band heating rates with the total  \n",
    "heating rate and explain differences."
   ]
  },
  {
   "cell_type": "code",
   "execution_count": null,
   "metadata": {},
   "outputs": [],
   "source": [
    "# calculate the heating rate for each band and plot them together with the other heating rate\n"
   ]
  }
 ],
 "metadata": {
  "kernelspec": {
   "display_name": "Python 3 (ipykernel)",
   "language": "python",
   "name": "python3"
  },
  "language_info": {
   "codemirror_mode": {
    "name": "ipython",
    "version": 3
   },
   "file_extension": ".py",
   "mimetype": "text/x-python",
   "name": "python",
   "nbconvert_exporter": "python",
   "pygments_lexer": "ipython3",
   "version": "3.10.8"
  },
  "vscode": {
   "interpreter": {
    "hash": "6bd45fef6a38d15b43f43de43ba5066924911f80576952f97fb08adaede44831"
   }
  }
 },
 "nbformat": 4,
 "nbformat_minor": 4
}
