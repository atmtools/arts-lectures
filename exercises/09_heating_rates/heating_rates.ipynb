{
 "cells": [
  {
   "cell_type": "code",
   "execution_count": null,
   "metadata": {},
   "outputs": [],
   "source": [
    "%matplotlib inline"
   ]
  },
  {
   "cell_type": "code",
   "execution_count": null,
   "metadata": {},
   "outputs": [],
   "source": [
    "# Set path to line catalogue\n",
    "import os\n",
    "# Uncomment and adjust the following lines\n",
    "# if ARTS_DATA_PATH is not set as environment variable\n",
    "# os.environ[\"ARTS_DATA_PATH\"] = \"your_path_to/arts-xml-data/:your_path_to/arts-cat-data/:\""
   ]
  },
  {
   "cell_type": "code",
   "execution_count": null,
   "metadata": {},
   "outputs": [],
   "source": [
    "import matplotlib.pyplot as plt\n",
    "import numpy as np\n",
    "import typhon as ty\n",
    "from pyarts import xml\n",
    "from heating_rates_module import (calc_spectral_irradiance, calc_irradiance,\n",
    "                                  integrate_spectral_irradiance)\n",
    "\n",
    "ty.plots.styles.use(\"typhon\")"
   ]
  },
  {
   "cell_type": "code",
   "execution_count": null,
   "metadata": {},
   "outputs": [],
   "source": [
    "# Read input atmosphere\n",
    "atmfield = xml.load(\"input/midlatitude-summer.xml\")"
   ]
  },
  {
   "cell_type": "code",
   "execution_count": null,
   "metadata": {},
   "outputs": [],
   "source": [
    "# Calculate the radiation irradiance (flux)\n",
    "\n",
    "z, p, T, flux_downward, flux_upward = calc_irradiance(atmfield)"
   ]
  },
  {
   "cell_type": "code",
   "execution_count": null,
   "metadata": {},
   "outputs": [],
   "source": [
    "#  Calculate net flux and plot up-, down- and net flux\n"
   ]
  },
  {
   "cell_type": "code",
   "execution_count": null,
   "metadata": {},
   "outputs": [],
   "source": [
    "# Implement heating rate function\n",
    "\n",
    "def calc_heatingrates(z, p, T, Fnet):\n",
    "    \"\"\"Calculate the heating rate.\n",
    "\n",
    "    Parameters:\n",
    "        z (ndarray): Altitude [m].\n",
    "        p (ndarray): Pressure [Pa].\n",
    "        T (ndarray): Temperature [K].\n",
    "        Fnet (ndarray): Net flux [W m^-2].\n",
    "\n",
    "    Returns:\n",
    "        ndarray, ndarray:\n",
    "        Heating rate [K/d], Altitude [m].\n",
    "    \"\"\"\n",
    "\n",
    "\n",
    "\n",
    "\n",
    "    return NotImplementedError"
   ]
  },
  {
   "cell_type": "code",
   "execution_count": null,
   "metadata": {},
   "outputs": [],
   "source": [
    "# Calculate heating rate and plot it\n",
    "\n",
    "# HR,zp_lay = calc_heatingrates(z, p, T, net_flux)\n"
   ]
  },
  {
   "cell_type": "code",
   "execution_count": null,
   "metadata": {},
   "outputs": [],
   "source": [
    "# Calculate the spectral irradiance (spectral flux)\n",
    "\n",
    "# f, z, p, T, spectral_flux_downward, spectral_flux_upward = calc_spectral_irradiance( atmfield, verbosity=1)\n"
   ]
  },
  {
   "cell_type": "code",
   "execution_count": null,
   "metadata": {},
   "outputs": [],
   "source": [
    "# calculate the heating rate for each band and plot them together with the other heating rate\n"
   ]
  }
 ],
 "metadata": {
  "kernelspec": {
   "display_name": "Python 3 (ipykernel)",
   "language": "python",
   "name": "python3"
  },
  "language_info": {
   "codemirror_mode": {
    "name": "ipython",
    "version": 3
   },
   "file_extension": ".py",
   "mimetype": "text/x-python",
   "name": "python",
   "nbconvert_exporter": "python",
   "pygments_lexer": "ipython3",
   "version": "3.10.8"
  }
 },
 "nbformat": 4,
 "nbformat_minor": 4
}
