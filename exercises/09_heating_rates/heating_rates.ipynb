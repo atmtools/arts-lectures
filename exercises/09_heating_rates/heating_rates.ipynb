{
 "cells": [
  {
   "cell_type": "code",
   "execution_count": null,
   "metadata": {},
   "outputs": [],
   "source": [
    "%load_ext autoreload\n",
    "%autoreload 2"
   ]
  },
  {
   "cell_type": "code",
   "execution_count": null,
   "metadata": {},
   "outputs": [],
   "source": [
    "# Set path to line catalogue\n",
    "import os\n",
    "if \"ARTS_DATA_PATH\" not in os.environ:\n",
    "    os.environ[\"ARTS_DATA_PATH\"] = \"/work/um0878/users/olemke/rtcourse/arts-xml-data/\""
   ]
  },
  {
   "cell_type": "code",
   "execution_count": null,
   "metadata": {},
   "outputs": [],
   "source": [
    "import matplotlib.pyplot as plt\n",
    "import numpy as np\n",
    "import typhon as ty\n",
    "from pyarts import xml\n",
    "from heating_rates_module import (calc_spectral_irradiance, calc_irradiance,\n",
    "                                  integrate_spectral_irradiance)\n",
    "from bokeh.plotting import figure, output_notebook, output_file, show\n",
    "\n",
    "output_notebook()"
   ]
  },
  {
   "source": [
    "# Read input atmosphere\n",
    "atmfield = xml.load(\"input/midlatitude-summer.xml\")\n",
    "\n"
   ],
   "cell_type": "code",
   "metadata": {},
   "execution_count": null,
   "outputs": []
  },
  {
   "source": [
    "# Calculate the radiation irradiance (flux)\n",
    "\n",
    "z, p, T, flux_downward, flux_upward = calc_irradiance(atmfield, verbosity=1)"
   ],
   "cell_type": "code",
   "metadata": {},
   "execution_count": null,
   "outputs": []
  },
  {
   "cell_type": "code",
   "execution_count": null,
   "metadata": {},
   "outputs": [],
   "source": [
    "#  Calculate net flux and plot up-, down- and net flux\n"
   ]
  },
  {
   "cell_type": "code",
   "execution_count": null,
   "metadata": {},
   "outputs": [],
   "source": [
    "# Implement heating rate function\n",
    "\n",
    "def calc_heatingrates(z, p, T, Fnet):\n",
    "    \"\"\"Calculate the heating rate.\n",
    "\n",
    "    Parameters:\n",
    "        z (ndarray): Altitude [m].\n",
    "        p (ndarray): Pressure [Pa].\n",
    "        T (ndarray): Temperature [K].\n",
    "        Fnet (ndarray): Net flux [W m^-2].\n",
    "\n",
    "    Returns:\n",
    "        ndarray, ndarray:\n",
    "        Heating rate [K/d], Altitude [m].\n",
    "    \"\"\"\n",
    "\n",
    "\n",
    "\n",
    "\n",
    "    return NotImplementedError"
   ]
  },
  {
   "cell_type": "code",
   "execution_count": null,
   "metadata": {},
   "outputs": [],
   "source": [
    "# Calculate heating rate and plot it\n",
    "\n",
    "# HR,zp_lay = calc_heatingrates(z, p, T, net_flux)\n"
   ]
  },
  {
   "cell_type": "code",
   "execution_count": null,
   "metadata": {},
   "outputs": [],
   "source": [
    "# Calculate the spectral irradiance (spectral flux)\n",
    "\n",
    "# f, z, p, T, spectral_flux_downward, spectral_flux_upward = calc_spectral_irradiance( atmfield, verbosity=1)\n"
   ]
  },
  {
   "cell_type": "code",
   "execution_count": null,
   "metadata": {},
   "outputs": [],
   "source": [
    "# calculate the heating rate for each band and plot them together with the other heating rate\n"
   ]
  }
 ],
 "metadata": {
  "kernelspec": {
   "display_name": "Python 3 bleeding edge (using the module anaconda3/bleeding_edge)",
   "language": "python",
   "name": "anaconda3_bleeding"
  },
  "language_info": {
   "codemirror_mode": {
    "name": "ipython",
    "version": 3
   },
   "file_extension": ".py",
   "mimetype": "text/x-python",
   "name": "python",
   "nbconvert_exporter": "python",
   "pygments_lexer": "ipython3",
   "version": "3.6.10"
  }
 },
 "nbformat": 4,
 "nbformat_minor": 4
}