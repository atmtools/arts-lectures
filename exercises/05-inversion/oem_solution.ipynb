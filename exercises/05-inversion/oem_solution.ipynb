{
 "cells": [
  {
   "cell_type": "markdown",
   "metadata": {},
   "source": [
    "# Advanced radiation and remote sensing\n",
    "\n",
    "\n",
    "Manfred Brath, Oliver Lemke\n",
    "\n",
    "## Exercise 5: Inversion theory: Optimal Estimation Method (OEM)"
   ]
  },
  {
   "cell_type": "code",
   "execution_count": null,
   "metadata": {},
   "outputs": [],
   "source": [
    "%matplotlib widget\n",
    "\n",
    "import os\n",
    "import matplotlib.pyplot as plt\n",
    "import numpy as np\n",
    "from scipy.linalg import inv\n",
    "\n",
    "from pyarts import xml\n",
    "from oem import forward_model\n",
    "\n",
    "os.makedirs(\"plots\", exist_ok=True)"
   ]
  },
  {
   "cell_type": "markdown",
   "metadata": {},
   "source": [
    "In this exercise you will work with \"realistic\" data measured by a water  \n",
    "vapor radiometer. The data is not real but has been simulated for a well-  \n",
    "known atmospheric state using ARTS. Simulated measurements allow to  \n",
    "compare retrieval results to the true atmospheric state. The radiometer  \n",
    "(image below) measures thermal radiation in a frequency range around the  \n",
    "$22\\,\\text{GHz}$ water vapor absorption line.   \n",
    "As the pressure broadening of absorption lines varies with height the  \n",
    "measurement contains information about the vertical water vapor profile.  \n",
    "This information can be retrieved using the \"Optimal Estimation Method\" (OEM).   \n",
    "The radiometer is placed in $10\\,\\text{km}$ height, which resembles an upward  \n",
    "looking airborne measurement. The scarce concentration of water vapor in the   \n",
    "stratosphere allows to perform a linear retrieval approach. Retrievals that  \n",
    "cover the whole atmosphere, including the highly absorbent lower troposphere,  \n",
    "need more advanced retrieval approaches like an iterative OEM. \n",
    "\n",
    "![radiometer](H2Orad.jpg)\n",
    "\n",
    "* Run the next cell."
   ]
  },
  {
   "cell_type": "code",
   "execution_count": null,
   "metadata": {},
   "outputs": [],
   "source": [
    "# Load the (simulated) measurement.\n",
    "measurement = xml.load(\"input/measurement.xml\")\n",
    "f_grid = measurement.grids[0]\n",
    "y_measurement = measurement.data\n",
    "\n",
    "# Load the a priori atmospheric state.\n",
    "atm_fields = xml.load(\"input/x_apriori.xml\")\n",
    "z = atm_fields.get(\"z\", keep_dims=False)\n",
    "x_apriori = atm_fields.get(\"abs_species-H2O\", keep_dims=False)\n",
    "\n",
    "# Load nd set the covariance matrices.\n",
    "S_xa = xml.load(\"input/S_xa.xml\")\n",
    "S_y = 2.5e-3 * np.eye(f_grid.size)  # in [K^2]"
   ]
  },
  {
   "cell_type": "markdown",
   "metadata": {},
   "source": [
    "* Plot the observed brightness\n",
    "temperature spectrum `y_measurement` as function of frequency\n",
    "`f_grid`."
   ]
  },
  {
   "cell_type": "code",
   "execution_count": null,
   "metadata": {},
   "outputs": [],
   "source": [
    "# Plot the y measurement.\n",
    "fig, ax = plt.subplots(1,1)\n",
    "ax.plot(f_grid, y_measurement, label=\"y measurement\")"
   ]
  },
  {
   "cell_type": "markdown",
   "metadata": {},
   "source": [
    "* Run the next cell to simulate the brightness temperature spectrum \n",
    "`y` and the water vapor Jacobian `K` for  \n",
    "the *a priori* state."
   ]
  },
  {
   "cell_type": "code",
   "execution_count": null,
   "metadata": {},
   "outputs": [],
   "source": [
    "# Run the forward model (ARTS).\n",
    "y, K = forward_model(f_grid, atm_fields)"
   ]
  },
  {
   "cell_type": "markdown",
   "metadata": {},
   "source": [
    "* Plot the simulated brightness temperature spectrum alongside with\n",
    "the observed brightness temperature spectrum."
   ]
  },
  {
   "cell_type": "code",
   "execution_count": null,
   "metadata": {},
   "outputs": [],
   "source": [
    "# Plot the y measurement alongside the simulated y for the a priori.\n",
    "ax.plot(f_grid, y, label=\"y forward model\")"
   ]
  },
  {
   "cell_type": "markdown",
   "metadata": {},
   "source": [
    "* Plot the Jacobians `K` in a suitable way. Explain the plot."
   ]
  },
  {
   "cell_type": "code",
   "execution_count": null,
   "metadata": {},
   "outputs": [],
   "source": [
    "# Plot the Jacobians.\n",
    "\n",
    "fig1, ax1 = plt.subplots(1,1)\n",
    "pcm=ax1.pcolormesh(f_grid, z, K.T, shading=\"auto\")\n",
    "fig1.colorbar(pcm, ax=ax1, label=\"K\")\n",
    "ax1.set_xlabel(\"Frequency [Hz]\")\n",
    "ax1.set_ylabel(\"Altitude [m]\")\n",
    "ax1.set_title(\"Jacobian K\")\n"
   ]
  },
  {
   "cell_type": "markdown",
   "metadata": {},
   "source": [
    "* Plot the measurement covariance matrix `S_y` and the *apriori*  covariance matrix `S_xa` in a suitable way.  \n",
    "What do the covariance matrices mean?"
   ]
  },
  {
   "cell_type": "code",
   "execution_count": null,
   "metadata": {},
   "outputs": [],
   "source": [
    "# Plot the covariance matrices.\n",
    "fig2, ax2 = plt.subplots(1,2)\n",
    "\n",
    "pcm = ax2[0].pcolormesh(f_grid, f_grid, S_y, shading=\"auto\")\n",
    "fig2.colorbar(pcm, ax=ax2[0], label=\"$S_y$ / $K^2$\")\n",
    "ax2[0].set_xlabel(\"Frequency [Hz]\")\n",
    "ax2[0].set_ylabel(\"Frequency [Hz]\")\n",
    "ax2[0].set_title(\"Covariance matrix $S_y$\")\n",
    "ax2[0].set_aspect('equal', 'box')\n",
    "fig2.tight_layout()\n",
    "\n",
    "\n",
    "pcm = ax2[1].pcolormesh(z, z, S_xa, shading=\"auto\")\n",
    "fig2.colorbar(pcm, ax=ax2[1], label=\"$S_{xa}$\")\n",
    "ax2[1].set_xlabel(\"Altitude [m]\")\n",
    "ax2[1].set_ylabel(\"Altitude [m]\")\n",
    "ax2[1].set_title(\"Covariance matrix $S_{xa}$\")\n",
    "ax2[1].set_aspect('equal', 'box')"
   ]
  },
  {
   "cell_type": "markdown",
   "metadata": {},
   "source": [
    "* Implement the function `retrieve()` according to the OEM solution:  \n",
    "$$\\hat{\\mathbf{x}}=\\mathbf{x}_{a}+\\left(\\mathbf{K}^{T}\\mathbf{S}_{y}^{-1}\\mathbf{K}+\\mathbf{S}_{xa}^{-1}\\right)^{-1}\\mathbf{K}^{T}\\mathbf{S}_{y}^{-1}\\left(\\mathbf{y}_{measure}-\\mathbf{y}_{a}\\right)$$\n",
    "\n",
    " with $\\mathbf{x}_{a}$ the a priori profile, $\\mathbf{K}$ the Jacobian,\n",
    "$\\mathbf{S}_{y}$ the measurement covariance matrix, $\\mathbf{S}_{xa}$\n",
    "the *a priori* covariance matrix, $\\mathbf{y}_{measure}$ the\n",
    "observed brightness temperature spectrum and $\\mathbf{y}_{a}$ the\n",
    "simulated brightness temperature spectrum of profile $\\mathbf{x}_{a}$.  \n",
    "In Python, a matrix `M` can be transposed using `M.T`\n",
    "and inversed using `inv(M)` We are using the inverse function \n",
    "`scipy.linalg.inv()` provided by the SciPy package. \n",
    "Two matrices `M1` and `M2` can be multiplied using\n",
    "`M1 @ M2.`\n",
    "\n",
    "* Use the function `retrieve()` to retrieve the water vapor profile."
   ]
  },
  {
   "cell_type": "code",
   "execution_count": null,
   "metadata": {},
   "outputs": [],
   "source": [
    "# Implement the retrieve function.\n",
    "def retrieve(y, K, xa, ya, Sa, Sy):\n",
    "    \"\"\"Perform an OEM retrieval.\n",
    "\n",
    "    Parameters:\n",
    "        y (np.ndarray): Measuremed brightness temperature [K].\n",
    "        K (np.ndarray): Jacobians [K/1].\n",
    "        xa (np.ndarray): A priori state [VMR].\n",
    "        ya (np.ndarray): Forward simulation of a priori state ``F(xa)`` [K].\n",
    "        Sa (np.ndarray): A priori error covariance matrix.\n",
    "        Sy (np.ndarray): Measurement covariance matrix\n",
    "\n",
    "    Returns:\n",
    "        np.ndarray: Retrieved atmospheric state.\n",
    "\n",
    "    \"\"\"\n",
    "    print(\"Function needs to be implemented by you\")\n",
    "\n",
    "    \n",
    "\n",
    "    return xa + inv(K.T @ inv(Sy) @ K + inv(Sa)) @ K.T @ inv(Sy) @ (y - ya)\n"
   ]
  },
  {
   "cell_type": "code",
   "execution_count": null,
   "metadata": {},
   "outputs": [],
   "source": [
    "# retrieve\n",
    "x_oem = retrieve(y_measurement, K, x_apriori, y, S_xa, S_y)\n"
   ]
  },
  {
   "cell_type": "markdown",
   "metadata": {},
   "source": [
    "* Plot the retrieved water vapor `x_oem` and the *a priori* \n",
    "water vapor profile as function of height `z`.\n",
    "\n",
    "* Load the true water vapor retrieval (`input/x_true.xml`) and\n",
    "add it to the previous plot. Dicuss the results."
   ]
  },
  {
   "cell_type": "code",
   "execution_count": null,
   "metadata": {},
   "outputs": [],
   "source": [
    "# Plot the OEM result next to the true atmospheric state and the a priori.\n",
    "fig3, ax3 = plt.subplots(1,1)\n",
    "ax3.plot(x_apriori, z, label=\"a priori\")\n",
    "ax3.plot(x_oem, z, label=\"OEM\") \n",
    "\n",
    "ax3.set_xlabel(\"H2O [VMR]\")\n",
    "ax3.set_ylabel(\"Altitude [m]\")\n",
    "ax3.set_title(\"Retrieved atmospheric state\")    \n",
    "\n",
    "atm_true = xml.load(\"input/x_true.xml\")\n",
    "x_true = atm_true.get(\"abs_species-H2O\", keep_dims=False)\n",
    "ax3.plot(x_true, z, label=\"true\")\n",
    "ax3.legend()"
   ]
  },
  {
   "cell_type": "markdown",
   "metadata": {},
   "source": [
    "* Implement the function `averaging_kernel_matrix()` to calculate\n",
    "the same-named matrix:  \n",
    "$$\\mathbf{A}=\\left(\\mathbf{K}^{T}\\mathbf{S}_{y}^{-1}\\mathbf{K}+\\mathbf{S}_{xa}^{-1}\\right)^{-1}\\mathbf{K}^{T}\\mathbf{S}_{y}^{-1}\\mathbf{K}$$"
   ]
  },
  {
   "cell_type": "code",
   "execution_count": null,
   "metadata": {},
   "outputs": [],
   "source": [
    "# Implement the averaging_kernel_matrix function.\n",
    "def averaging_kernel_matrix(K, Sa, Sy):\n",
    "    \"\"\"Calculate the averaging kernel matrix.\n",
    "\n",
    "    Parameters:\n",
    "        K (np.ndarray): Simulated Jacobians.\n",
    "        Sa (np.ndarray): A priori error covariance matrix.\n",
    "        Sy (np.ndarray): Measurement covariance matrix.\n",
    "\n",
    "    Returns:\n",
    "        np.ndarray: Averaging kernel matrix.\n",
    "    \"\"\"\n",
    "    #print(\"Function needs to be implemented by you\")\n",
    "\n",
    "    return inv(K.T @ inv(Sy) @ K + inv(Sa)) @ K.T @ inv(Sy) @ K\n",
    "    "
   ]
  },
  {
   "cell_type": "code",
   "execution_count": null,
   "metadata": {},
   "outputs": [],
   "source": [
    "# Calculate averaging kernel \n",
    "A = averaging_kernel_matrix(K, S_xa, S_y)"
   ]
  },
  {
   "cell_type": "markdown",
   "metadata": {},
   "source": [
    "* Plot the kernels (columns) of $\\mathbf{A}$ as function of height\n",
    "`z` and interpret the results.  \n",
    "The measurement response is defined as the sum over all averaging\n",
    "kernels in a given height (row). The measurement response indicates\n",
    "in which heights the measurement actually adds information to the\n",
    "retrieval result.\n",
    "* Calculate the measurement response and plot it together with the averaging\n",
    "kernels.\n",
    "* In which heights does the measurement provide useful information?\n",
    "* Is it possible to estimate the vertical resolution?"
   ]
  },
  {
   "cell_type": "code",
   "execution_count": null,
   "metadata": {},
   "outputs": [],
   "source": [
    "# Plot averaging kernels"
   ]
  },
  {
   "cell_type": "code",
   "execution_count": null,
   "metadata": {},
   "outputs": [],
   "source": [
    "fig, ax =plt.subplots(1,3)\n",
    "pcm=ax[0].pcolormesh(z,z,A)\n",
    "\n",
    "from matplotlib import colormaps as cm\n",
    "cmap =cm['plasma']\n",
    "colors = cmap(np.linspace(0, 1, len(z)))\n",
    "for i in range(len(z)):\n",
    "    ax[1].plot(A[i,:],z,color=colors[i])\n",
    "test=np.sum(A,1)\n",
    "ax[1].plot(test*0.1,z)\n",
    "ax[1].set_title(\"sensitivity\")\n",
    "\n",
    "for i in range(len(z)):\n",
    "    ax[2].plot(A[:,i],z,color=colors[i])\n",
    "test=np.sum(A,0)\n",
    "ax[2].plot(test*0.1,z)    \n",
    "ax[2].set_title(\"contribution\")\n",
    "\n"
   ]
  },
  {
   "cell_type": "code",
   "execution_count": null,
   "metadata": {},
   "outputs": [],
   "source": [
    "# Implement the averaging_kernel_matrix function.\n",
    "def gain_matrix(K, Sa, Sy):\n",
    "    \"\"\"Calculate the averaging kernel matrix.\n",
    "\n",
    "    Parameters:\n",
    "        K (np.ndarray): Simulated Jacobians.\n",
    "        Sa (np.ndarray): A priori error covariance matrix.\n",
    "        Sy (np.ndarray): Measurement covariance matrix.\n",
    "\n",
    "    Returns:\n",
    "        np.ndarray: Averaging kernel matrix.\n",
    "    \"\"\"\n",
    "    #print(\"Function needs to be implemented by you\")\n",
    "\n",
    "    return inv(K.T @ inv(Sy) @ K + inv(Sa)) @ K.T @ inv(Sy)\n",
    "    "
   ]
  },
  {
   "cell_type": "code",
   "execution_count": null,
   "metadata": {},
   "outputs": [],
   "source": [
    "# Calculate averaging kernel \n",
    "G = gain_matrix(K, S_xa, S_y)"
   ]
  },
  {
   "cell_type": "code",
   "execution_count": null,
   "metadata": {},
   "outputs": [],
   "source": [
    "\n",
    "fig=plt.figure()\n",
    "ax1 = plt.subplot(2,2, (1,2) )\n",
    "pcm=ax1.pcolormesh(f_grid,z,G, cmap=\"plasma\")\n",
    "fig.colorbar(pcm, ax=ax1, label=\"vmr/K\")\n",
    "\n",
    "ax2 = plt.subplot(2,2,3 )\n",
    "ax2.plot(G[:,::100],z)\n",
    "\n",
    "ax3 = plt.subplot(2,2,4 )\n",
    "ax3.plot(f_grid, G[::8,:].T)\n",
    "\n",
    "fig.tight_layout()\n"
   ]
  }
 ],
 "metadata": {
  "kernelspec": {
   "display_name": "arts2",
   "language": "python",
   "name": "python3"
  },
  "language_info": {
   "codemirror_mode": {
    "name": "ipython",
    "version": 3
   },
   "file_extension": ".py",
   "mimetype": "text/x-python",
   "name": "python",
   "nbconvert_exporter": "python",
   "pygments_lexer": "ipython3",
   "version": "3.12.9"
  }
 },
 "nbformat": 4,
 "nbformat_minor": 4
}
