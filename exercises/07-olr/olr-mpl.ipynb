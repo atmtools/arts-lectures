{
 "cells": [
  {
   "cell_type": "code",
   "execution_count": null,
   "metadata": {},
   "outputs": [],
   "source": [
    "%load_ext autoreload\n",
    "%autoreload 2\n",
    "%matplotlib inline"
   ]
  },
  {
   "cell_type": "code",
   "execution_count": null,
   "metadata": {},
   "outputs": [],
   "source": [
    "# Set path to line catalogue\n",
    "import os\n",
    "if \"ARTS_DATA_PATH\" not in os.environ:\n",
    "    os.environ[\"ARTS_DATA_PATH\"] = \"/work/um0878/users/olemke/rtcourse/arts-xml-data/\""
   ]
  },
  {
   "cell_type": "code",
   "execution_count": null,
   "metadata": {},
   "outputs": [],
   "source": [
    "import matplotlib.pyplot as plt\n",
    "import numpy as np\n",
    "import typhon as ty\n",
    "from pyarts import xml\n",
    "from olr_module import calc_olr\n",
    "\n",
    "plt.style.use(ty.plots.styles(\"typhon\"))"
   ]
  },
  {
   "cell_type": "code",
   "execution_count": null,
   "metadata": {},
   "outputs": [],
   "source": [
    "# Read input atmosphere\n",
    "atmfield = xml.load(\"input/midlatitude-summer.xml\")\n",
    "\n",
    "# Scale the CO2 concentration\n",
    "atmfield.scale(\"abs_species-CO2\", 1)\n",
    "# atmfield.add(\"T\", 0)\n",
    "atmfield.set(\"T\", atmfield.get(\"T\") + 50)\n",
    "\n",
    "# Calculate the outgoing-longwave radiation\n",
    "f, olr = calc_olr(atmfield, verbosity=0)"
   ]
  },
  {
   "cell_type": "code",
   "execution_count": null,
   "metadata": {},
   "outputs": [],
   "source": [
    "# Plotting.\n",
    "import matplotlib\n",
    "font = {'size'   : 24}\n",
    "matplotlib.rc('font', **font)\n",
    "\n",
    "wn = ty.physics.frequency2wavenumber(f) / 100  # Hz -> cm^-1\n",
    "\n",
    "temps = [225, 250, 275, atmfield.get(\"T\", keep_dims=False)[0]]\n",
    "temp_colors = ty.plots.cmap2rgba(\"temperature\", len(temps))\n",
    "\n",
    "fig, ax = plt.subplots()\n",
    "for t, color in sorted(zip(temps, temp_colors)):\n",
    "    ax.plot(\n",
    "        wn, np.pi * ty.physics.planck(f, t), label=f\"{t:3.1f} K\", color=color\n",
    "    )\n",
    "ax.plot(wn, olr, color=\"C0\", label=\"Radiance\")\n",
    "ax.legend()\n",
    "ax.set_title(rf\"OLR={np.trapz(olr, f):3.2f} $\\sf Wm^{{-2}}$\")\n",
    "ax.set_xlim(wn.min(), wn.max())\n",
    "ax.set_xlabel(r\"Wavenumber [$\\sf cm^{-1}$]\")\n",
    "ax.set_ylabel(r\"Irradiance [$\\sf Wm^{-2}Hz^{-1}$]\")\n",
    "ax.set_ylim(bottom=0)\n",
    "fig.savefig(\"plots/olr.pdf\")"
   ]
  }
 ],
 "metadata": {
  "kernelspec": {
   "display_name": "Python 3 bleeding edge (using the module anaconda3/bleeding_edge)",
   "language": "python",
   "name": "anaconda3_bleeding"
  },
  "language_info": {
   "codemirror_mode": {
    "name": "ipython",
    "version": 3
   },
   "file_extension": ".py",
   "mimetype": "text/x-python",
   "name": "python",
   "nbconvert_exporter": "python",
   "pygments_lexer": "ipython3",
   "version": "3.6.10"
  }
 },
 "nbformat": 4,
 "nbformat_minor": 4
}
