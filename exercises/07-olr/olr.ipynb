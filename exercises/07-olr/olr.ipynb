{
 "cells": [
  {
   "cell_type": "code",
   "execution_count": null,
   "metadata": {},
   "outputs": [],
   "source": [
    "%load_ext autoreload\n",
    "%autoreload 2"
   ]
  },
  {
   "cell_type": "code",
   "execution_count": null,
   "metadata": {},
   "outputs": [],
   "source": [
    "# Set path to line catalogue\n",
    "import os\n",
    "if \"ARTS_DATA_PATH\" not in os.environ:\n",
    "    os.environ[\"ARTS_DATA_PATH\"] = \"/work/um0878/users/olemke/rtcourse/arts-xml-data/\""
   ]
  },
  {
   "cell_type": "code",
   "execution_count": null,
   "metadata": {},
   "outputs": [],
   "source": [
    "import matplotlib.pyplot as plt\n",
    "import numpy as np\n",
    "import typhon as ty\n",
    "from pyarts import xml\n",
    "from olr_module import calc_olr\n",
    "from bokeh.plotting import figure, output_notebook, output_file, show\n",
    "\n",
    "output_notebook()"
   ]
  },
  {
   "cell_type": "code",
   "execution_count": null,
   "metadata": {},
   "outputs": [],
   "source": [
    "# Read input atmosphere\n",
    "atmfield = xml.load(\"input/midlatitude-summer.xml\")\n",
    "\n",
    "# Scale the CO2 concentration\n",
    "atmfield.scale(\"abs_species-CO2\", 1)\n",
    "# atmfield.add(\"T\", 0)\n",
    "atmfield.set(\"T\", atmfield.get(\"T\") + 50)\n",
    "\n",
    "# Calculate the outgoing-longwave radiation\n",
    "f, olr = calc_olr(atmfield, verbosity=0)"
   ]
  },
  {
   "cell_type": "code",
   "execution_count": null,
   "metadata": {},
   "outputs": [],
   "source": [
    "# Plotting.\n",
    "from bokeh.palettes import Magma256\n",
    "\n",
    "wn = ty.physics.frequency2wavenumber(f) / 100  # Hz -> cm^-1\n",
    "\n",
    "temps = [225, 250, 275, atmfield.get(\"T\", keep_dims=False)[0]]\n",
    "temp_colors = ty.plots.cmap2rgba(\"temperature\", len(temps))\n",
    "\n",
    "# Workaround for NaNs in OLR for first frequency\n",
    "olr_nonan=olr.copy()\n",
    "olr_nonan[np.isnan(olr)]=0\n",
    "\n",
    "p = figure(width=800, aspect_ratio=3/2,\n",
    "           x_range=(wn.min(), wn.max()),\n",
    "           tooltips=[(\"x\", \"$x\"), (\"y\", \"$y\")],\n",
    "          title=rf\"OLR={np.trapz(olr_nonan, f):3.2f} Wm^-2\")\n",
    "p.xgrid.grid_line_color = p.ygrid.grid_line_color = None\n",
    "p.yaxis.axis_label=\"Irradiance / W m^-2 Hz^-1\"\n",
    "p.xaxis.axis_label=\"Wavenumber / cm^-1\"\n",
    "p.y_range.start = 0\n",
    "\n",
    "for i, t in enumerate(temps):\n",
    "    p.line(x=wn, y=np.pi * ty.physics.planck(f, t),\n",
    "           line_color=Magma256[int(i/(len(temps)-1)*230) % 256],\n",
    "           line_width=2,\n",
    "           legend_label=f\"{t:3.1f} K\")\n",
    "\n",
    "p.line(x=wn, y=olr, line_width=2, legend_label=\"Radiance\")\n",
    "\n",
    "show(p)"
   ]
  }
 ],
 "metadata": {
  "kernelspec": {
   "display_name": "Python 3 bleeding edge (using the module anaconda3/bleeding_edge)",
   "language": "python",
   "name": "anaconda3_bleeding"
  },
  "language_info": {
   "codemirror_mode": {
    "name": "ipython",
    "version": 3
   },
   "file_extension": ".py",
   "mimetype": "text/x-python",
   "name": "python",
   "nbconvert_exporter": "python",
   "pygments_lexer": "ipython3",
   "version": "3.6.10"
  }
 },
 "nbformat": 4,
 "nbformat_minor": 4
}
