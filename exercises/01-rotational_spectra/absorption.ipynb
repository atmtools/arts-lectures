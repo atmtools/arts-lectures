{
 "cells": [
  {
   "cell_type": "markdown",
   "metadata": {},
   "source": [
    "## Calculate and plot absorption cross sections"
   ]
  },
  {
   "cell_type": "code",
   "execution_count": null,
   "metadata": {},
   "outputs": [],
   "source": [
    "# Set path to line catalogue\n",
    "import os\n",
    "os.environ[\"ARTS_DATA_PATH\"] = \"/work/um0878/data/catalogue/\""
   ]
  },
  {
   "cell_type": "code",
   "execution_count": null,
   "metadata": {},
   "outputs": [],
   "source": [
    "import matplotlib.pyplot as plt\n",
    "import numpy as np\n",
    "import typhon as ty\n",
    "from absorption import tag2tex, calculate_absxsec"
   ]
  },
  {
   "cell_type": "code",
   "execution_count": null,
   "metadata": {
    "scrolled": true
   },
   "outputs": [],
   "source": [
    "# Define parameters\n",
    "species = \"N2O\"\n",
    "temperature = 300\n",
    "pressure = 800e2\n",
    "\n",
    "# Call ARTS to calculate absorption cross sections\n",
    "freq, abs_xsec = calculate_absxsec(species, pressure, temperature)"
   ]
  },
  {
   "cell_type": "code",
   "execution_count": null,
   "metadata": {},
   "outputs": [],
   "source": [
    "# Plot the results.\n",
    "plt.style.use(ty.plots.styles(\"typhon\"))\n",
    "\n",
    "fig, ax = plt.subplots()\n",
    "ax.plot(freq / 1e9, abs_xsec)\n",
    "ax.set_xlim(freq.min() / 1e9, freq.max() / 1e9)\n",
    "ax.set_ylim(bottom=0)\n",
    "ax.set_xlabel(\"Frequency [GHz]\")\n",
    "ax.set_ylabel(r\"Abs. cross section [$\\sf m^2$]\")\n",
    "ax.set_title(f\"{tag2tex(species)} p:{pressure/100} hPa T:{temperature:0.0f} K\")\n",
    "\n",
    "fig.savefig(  # Save figure.\n",
    "    f\"plots/plot_xsec_{species}_{pressure:.0f}Pa_{temperature:.0f}K.pdf\"\n",
    ")"
   ]
  }
 ],
 "metadata": {
  "kernelspec": {
   "display_name": "Python 3 bleeding edge (using the module anaconda3/bleeding_edge)",
   "language": "python",
   "name": "anaconda3_bleeding"
  },
  "language_info": {
   "codemirror_mode": {
    "name": "ipython",
    "version": 3
   },
   "file_extension": ".py",
   "mimetype": "text/x-python",
   "name": "python",
   "nbconvert_exporter": "python",
   "pygments_lexer": "ipython3",
   "version": "3.8.5"
  }
 },
 "nbformat": 4,
 "nbformat_minor": 4
}
