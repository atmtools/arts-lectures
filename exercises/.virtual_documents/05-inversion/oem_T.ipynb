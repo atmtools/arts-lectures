


%matplotlib widget

import os
import matplotlib.pyplot as plt
import numpy as np
from scipy.linalg import inv

from pyarts import xml
from oem import forward_model

os.makedirs("plots", exist_ok=True)





# Load the (simulated) measurement.
measurement = xml.load("input/measurement_T.xml")
f_grid = measurement.grids[0]
y_measurement = measurement.data

# Load the a priori atmospheric state.
atm_fields = xml.load("input/x_apriori.xml")
z = atm_fields.get("z", keep_dims=False)
x_apriori = atm_fields.get("T", keep_dims=False)

# Load the covariance matrices.
S_xa = xml.load("input/S_xa_T.xml")
S_y = 0.25 * np.eye(f_grid.size)  # in [K^2]





# Plot the y measurement.
# Plot the y measurement.
fig, ax = plt.subplots(1,1)
ax.plot(f_grid, y_measurement, label="y measurement")





# Run the forward model (ARTS).
y, K = forward_model(f_grid, atm_fields, retrieval_quantity='Temperature')





# Plot the y measurement alongside the simulated y for the a priori.
ax.plot(f_grid, y, label="y forward model")





# Plot the Jacobians.

fig1, ax1 = plt.subplots(1,1)
pcm=ax1.pcolormesh(f_grid, z, K.T, shading="auto")
fig1.colorbar(pcm, ax=ax1, label="K")
ax1.set_xlabel("Frequency [Hz]")
ax1.set_ylabel("Altitude [m]")
ax1.set_title("Jacobian K")





# Plot the covariance matrices.
fig2, ax2 = plt.subplots(1,2)

pcm = ax2[0].pcolormesh(f_grid, f_grid, S_y, shading="auto")
fig2.colorbar(pcm, ax=ax2[0], label="$S_y$ / $K^2$")
ax2[0].set_xlabel("Frequency [Hz]")
ax2[0].set_ylabel("Frequency [Hz]")
ax2[0].set_title("Covariance matrix $S_y$")
ax2[0].set_aspect('equal', 'box')
fig2.tight_layout()


pcm = ax2[1].pcolormesh(z, z, S_xa, shading="auto")
fig2.colorbar(pcm, ax=ax2[1], label="$S_{xa}$")
ax2[1].set_xlabel("Altitude [m]")
ax2[1].set_ylabel("Altitude [m]")
ax2[1].set_title("Covariance matrix $S_{xa}$")
ax2[1].set_aspect('equal', 'box')





# Implement the retrieve function.
def retrieve(y, K, xa, ya, Sa, Sy):
    """Perform an OEM retrieval.

    Parameters:
        y (np.ndarray): Measuremed brightness temperature [K].
        K (np.ndarray): Jacobians [K/1].
        xa (np.ndarray): A priori state [VMR].
        ya (np.ndarray): Forward simulation of a priori state ``F(xa)`` [K].
        Sa (np.ndarray): A priori error covariance matrix.
        Sy (np.ndarray): Measurement covariance matrix

    Returns:
        np.ndarray: Retrieved atmospheric state.

    """
    return xa + inv(K.T @ inv(Sy) @ K + inv(Sa)) @ K.T @ inv(Sy) @ (y - ya)


# retrieve
x_oem = retrieve(y_measurement, K, x_apriori, y, S_xa, S_y)






# Plot the OEM result next to the true atmospheric state and the a priori.
fig3, ax3 = plt.subplots(1,1)
ax3.plot(x_apriori, z, label="a priori")
ax3.plot(x_oem, z, label="OEM") 

ax3.set_xlabel("H2O [VMR]")
ax3.set_ylabel("Altitude [m]")
ax3.set_title("Retrieved atmospheric state")    

atm_true = xml.load("input/x_true_T.xml")
x_true = atm_true.get("T", keep_dims=False)
ax3.plot(x_true, z, label="true")
ax3.legend()





# Implement the averaging_kernel_matrix function.
def gain_matrix(K, Sa, Sy):
    """Calculate the gain matrix.

    Parameters:
        K (np.ndarray): Simulated Jacobians.
        Sa (np.ndarray): A priori error covariance matrix.
        Sy (np.ndarray): Measurement covariance matrix.

    Returns:
        np.ndarray: gain matrix.
    """
    return inv(K.T @ inv(Sy) @ K + inv(Sa)) @ K.T @ inv(Sy)





# Calculate gain matrix 
G = gain_matrix(K, S_xa, S_y)


# Plot gain matrix
fig=plt.figure()
ax1 = plt.subplot(2,2, (1,2) )
pcm=ax1.pcolormesh(f_grid,z,G, cmap="plasma")
fig.colorbar(pcm, ax=ax1, label="vmr/K")

ax2 = plt.subplot(2,2,3 )
ax2.plot(G[:,::10],z)

ax3 = plt.subplot(2,2,4 )
ax3.plot(f_grid, G[::4,:].T)

fig.tight_layout()






# Implement the averaging_kernel_matrix function.
def averaging_kernel_matrix(K, Sa, Sy):
    """Calculate the averaging kernel matrix.

    Parameters:
        K (np.ndarray): Simulated Jacobians.
        Sa (np.ndarray): A priori error covariance matrix.
        Sy (np.ndarray): Measurement covariance matrix.

    Returns:
        np.ndarray: Averaging kernel matrix.
    """
    return inv(K.T @ inv(Sy) @ K + inv(Sa)) @ K.T @ inv(Sy) @ K





# Calculate averaging kernel 
A = averaging_kernel_matrix(K, S_xa, S_y)


# Plot averaging kernels
fig, ax =plt.subplots(1,3)
pcm=ax[0].pcolormesh(z,z,A)

from matplotlib import colormaps as cm
cmap =cm['plasma']
colors = cmap(np.linspace(0, 1, len(z)))
for i in range(len(z)):
    ax[1].plot(A[i,:],z,color=colors[i])
test=np.sum(A,1)
ax[1].plot(test,z)
ax[1].set_title("sensitivity")

for i in range(len(z)):
    ax[2].plot(A[:,i],z,color=colors[i])
test=np.sum(A,0)
ax[2].plot(test,z)    
ax[2].set_title("contribution")




