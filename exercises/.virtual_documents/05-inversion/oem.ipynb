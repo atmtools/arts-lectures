


%matplotlib widget

import os
import matplotlib.pyplot as plt
import numpy as np
from scipy.linalg import inv

from pyarts import xml
from oem import forward_model

os.makedirs("plots", exist_ok=True)





# Load the (simulated) measurement.
measurement = xml.load("input/measurement.xml")
f_grid = measurement.grids[0]
y_measurement = measurement.data

# Load the a priori atmospheric state.
atm_fields = xml.load("input/x_apriori.xml")
z = atm_fields.get("z", keep_dims=False)
x_apriori = atm_fields.get("abs_species-H2O", keep_dims=False)

# Load the covariance matrices.
S_xa = xml.load("input/S_xa.xml")
S_y = 2.5e-3 * np.eye(f_grid.size)  # in [K^2]





# Plot the y measurement.






# Run the forward model (ARTS).
y, K = forward_model(f_grid, atm_fields)





# Plot the y measurement alongside the simulated y for the a priori.






# Plot the Jacobians.






# Plot the covariance matrices.






# Implement the retrieve function.
def retrieve(y, K, xa, ya, Sa, Sy):
    """Perform an OEM retrieval.

    Parameters:
        y (np.ndarray): Measuremed brightness temperature [K].
        K (np.ndarray): Jacobians [K/1].
        xa (np.ndarray): A priori state [VMR].
        ya (np.ndarray): Forward simulation of a priori state ``F(xa)`` [K].
        Sa (np.ndarray): A priori error covariance matrix.
        Sy (np.ndarray): Measurement covariance matrix

    Returns:
        np.ndarray: Retrieved atmospheric state.

    """
    print("Function needs to be implemented by you")


# retrieve
x_oem = retrieve(y_measurement, K, x_apriori, y, S_xa, S_y)






# Plot the OEM result next to the true atmospheric state and the a priori.





# Implement the averaging_kernel_matrix function.
def gain_matrix(K, Sa, Sy):
    """Calculate the gain matrix.

    Parameters:
        K (np.ndarray): Simulated Jacobians.
        Sa (np.ndarray): A priori error covariance matrix.
        Sy (np.ndarray): Measurement covariance matrix.

    Returns:
        np.ndarray: gain matrix.
    """
    print("Function needs to be implemented by you")





# Calculate gain matrix 
G = gain_matrix(K, S_xa, S_y)


# Plot gain matrix





# Implement the averaging_kernel_matrix function.
def averaging_kernel_matrix(K, Sa, Sy):
    """Calculate the averaging kernel matrix.

    Parameters:
        K (np.ndarray): Simulated Jacobians.
        Sa (np.ndarray): A priori error covariance matrix.
        Sy (np.ndarray): Measurement covariance matrix.

    Returns:
        np.ndarray: Averaging kernel matrix.
    """
    print("Function needs to be implemented by you")





# Calculate averaging kernel 
A = averaging_kernel_matrix(K, S_xa, S_y)


# Plot averaging kernels
