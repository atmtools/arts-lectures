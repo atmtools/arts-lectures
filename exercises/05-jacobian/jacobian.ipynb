{
 "cells": [
  {
   "cell_type": "markdown",
   "metadata": {},
   "source": [
    "## Calculate and plot clear-sky Jacobians"
   ]
  },
  {
   "cell_type": "code",
   "execution_count": null,
   "metadata": {},
   "outputs": [],
   "source": [
    "# Set path to line catalogue\n",
    "import os\n",
    "if \"ARTS_DATA_PATH\" not in os.environ:\n",
    "    os.environ[\"ARTS_DATA_PATH\"] = \"/work/um0878/users/olemke/rtcourse/arts-xml-data/\""
   ]
  },
  {
   "cell_type": "code",
   "execution_count": null,
   "metadata": {},
   "outputs": [],
   "source": [
    "from bokeh.plotting import figure, output_notebook, output_file, show\n",
    "from bokeh.layouts import layout\n",
    "import numpy as n\n",
    "import matplotlib.pyplot as plt\n",
    "import numpy as np\n",
    "import typhon as ty\n",
    "from pyarts import xml\n",
    "from jacobian_module import (calc_jacobians, plot_brightness_temperature,\n",
    "                             plot_jacobian, plot_opacity, plot_opacity_profile,\n",
    "                             argclosest)\n",
    "\n",
    "output_notebook()"
   ]
  },
  {
   "cell_type": "code",
   "execution_count": null,
   "metadata": {},
   "outputs": [],
   "source": [
    "# Calculate Jacobians (ARTS)\n",
    "jacobian_quantity = \"H2O\"\n",
    "calc_jacobians(jacobian_quantity=jacobian_quantity)\n",
    "\n",
    "# read in everything\n",
    "freq = xml.load(\"results/f_grid.xml\")\n",
    "tau = xml.load(\"results/optical_thickness.xml\")\n",
    "bt = xml.load(\"results/y.xml\")\n",
    "jac = xml.load(\"results/jacobian.xml\")\n",
    "alt = xml.load(\"results/z_field.xml\").ravel()\n",
    "jac /= np.gradient(alt / 1000)  # normalize by layer thickness in km"
   ]
  },
  {
   "cell_type": "code",
   "execution_count": null,
   "metadata": {},
   "outputs": [],
   "source": [
    "# select frequency\n",
    "highlight_frequency = None  # Hz\n",
    "\n",
    "if highlight_frequency is None:\n",
    "    s1 = plot_brightness_temperature(freq, bt)\n",
    "    s2 = plot_opacity(freq, tau)\n",
    "    s2.x_range = s1.x_range\n",
    "    freq_ind = None\n",
    "\n",
    "    show(layout([[s1, s2]]))\n",
    "else:\n",
    "    freq_ind = argclosest(freq, highlight_frequency)\n",
    "\n",
    "    s1 = plot_brightness_temperature(freq, bt, where=highlight_frequency)\n",
    "    s2 = plot_opacity(freq, tau, where=highlight_frequency)\n",
    "    s2.x_range = s1.x_range\n",
    "\n",
    "    s3 = plot_jacobian(\n",
    "        alt, jac[freq_ind, :], jacobian_quantity=jacobian_quantity\n",
    "    )\n",
    "    s4 = plot_opacity_profile(alt, tau[:, freq_ind])\n",
    "    s4.y_range = s3.y_range\n",
    "\n",
    "    show(layout([\n",
    "        [s1, s2],\n",
    "        [s3, s4]\n",
    "    ]))\n",
    "\n",
    "output_file(f\"plots/jacobians-{freq_ind}.html\")"
   ]
  }
 ],
 "metadata": {
  "kernelspec": {
   "display_name": "Python 3 bleeding edge (using the module anaconda3/bleeding_edge)",
   "language": "python",
   "name": "anaconda3_bleeding"
  },
  "language_info": {
   "codemirror_mode": {
    "name": "ipython",
    "version": 3
   },
   "file_extension": ".py",
   "mimetype": "text/x-python",
   "name": "python",
   "nbconvert_exporter": "python",
   "pygments_lexer": "ipython3",
   "version": "3.6.10"
  }
 },
 "nbformat": 4,
 "nbformat_minor": 4
}
