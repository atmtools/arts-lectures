{
 "cells": [
  {
   "cell_type": "markdown",
   "metadata": {},
   "source": [
    "## Calculate and plot clear-sky Jacobians"
   ]
  },
  {
   "cell_type": "code",
   "execution_count": null,
   "metadata": {},
   "outputs": [],
   "source": [
    "%matplotlib inline"
   ]
  },
  {
   "cell_type": "code",
   "execution_count": null,
   "metadata": {},
   "outputs": [],
   "source": [
    "# Set path to line catalogue\n",
    "import os\n",
    "if \"ARTS_DATA_PATH\" not in os.environ:\n",
    "    os.environ[\"ARTS_DATA_PATH\"] = \"/work/um0878/users/olemke/rtcourse/arts-xml-data/\""
   ]
  },
  {
   "cell_type": "code",
   "execution_count": null,
   "metadata": {},
   "outputs": [],
   "source": [
    "import matplotlib.pyplot as plt\n",
    "import numpy as np\n",
    "import typhon as ty\n",
    "from pyarts import xml\n",
    "from jacobian_module_mpl import (calc_jacobians, plot_brightness_temperature,\n",
    "                                 plot_jacobian, plot_opacity, plot_opacity_profile,\n",
    "                                 argclosest)\n",
    "\n",
    "plt.style.use(ty.plots.styles(\"typhon\"))"
   ]
  },
  {
   "cell_type": "code",
   "execution_count": null,
   "metadata": {},
   "outputs": [],
   "source": [
    "# Calculate Jacobians (ARTS)\n",
    "jacobian_quantity = \"H2O\"\n",
    "calc_jacobians(jacobian_quantity=jacobian_quantity)\n",
    "\n",
    "# read in everything\n",
    "freq = xml.load(\"results/f_grid.xml\")\n",
    "tau = xml.load(\"results/optical_thickness.xml\")\n",
    "bt = xml.load(\"results/y.xml\")\n",
    "jac = xml.load(\"results/jacobian.xml\")\n",
    "alt = xml.load(\"results/z_field.xml\").ravel()\n",
    "jac /= np.gradient(alt / 1000)  # normalize by layer thickness in km"
   ]
  },
  {
   "cell_type": "code",
   "execution_count": null,
   "metadata": {},
   "outputs": [],
   "source": [
    "# select frequency\n",
    "highlight_frequency = 180e9  # Hz\n",
    "\n",
    "if highlight_frequency is None:\n",
    "    fig, (ax0, ax1) = plt.subplots(ncols=2)\n",
    "    plot_brightness_temperature(freq, bt, ax=ax0)\n",
    "    plot_opacity(freq, tau, ax=ax1)\n",
    "    freq_ind = None\n",
    "else:\n",
    "    fig, ((ax0, ax1), (ax2, ax3)) = plt.subplots(2, 2)\n",
    "    plot_brightness_temperature(freq, bt, where=highlight_frequency, ax=ax0)\n",
    "    plot_opacity(freq, tau, where=highlight_frequency, ax=ax1)\n",
    "    freq_ind = argclosest(freq, highlight_frequency)\n",
    "    plot_jacobian(\n",
    "        alt, jac[freq_ind, :], jacobian_quantity=jacobian_quantity, ax=ax2\n",
    "    )\n",
    "    plot_opacity_profile(alt, tau[:, freq_ind], ax=ax3)\n",
    "\n",
    "fig.tight_layout()\n",
    "fig.savefig(f\"plots/jacobians-{freq_ind}.pdf\")"
   ]
  }
 ],
 "metadata": {
  "kernelspec": {
   "display_name": "Python 3 bleeding edge (using the module anaconda3/bleeding_edge)",
   "language": "python",
   "name": "anaconda3_bleeding"
  },
  "language_info": {
   "codemirror_mode": {
    "name": "ipython",
    "version": 3
   },
   "file_extension": ".py",
   "mimetype": "text/x-python",
   "name": "python",
   "nbconvert_exporter": "python",
   "pygments_lexer": "ipython3",
   "version": "3.6.10"
  }
 },
 "nbformat": 4,
 "nbformat_minor": 4
}
