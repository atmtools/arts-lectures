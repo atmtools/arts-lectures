{
 "cells": [
  {
   "cell_type": "code",
   "execution_count": null,
   "metadata": {},
   "outputs": [],
   "source": [
    "%matplotlib inline"
   ]
  },
  {
   "cell_type": "code",
   "execution_count": null,
   "metadata": {},
   "outputs": [],
   "source": [
    "# Set path to line catalogue\n",
    "import os\n",
    "# Uncomment and adjust the following lines\n",
    "# if ARTS_DATA_PATH is not set as environment variable\n",
    "# os.environ[\"ARTS_DATA_PATH\"] = \"your_path_to/arts-xml-data/:your_path_to/arts-cat-data/:\""
   ]
  },
  {
   "cell_type": "code",
   "execution_count": null,
   "metadata": {},
   "outputs": [],
   "source": [
    "import numpy as np\n",
    "import matplotlib.pyplot as plt\n",
    "import typhon as ty\n",
    "from scattering_module import argclosest, scattering\n",
    "from matplotlib.ticker import StrMethodFormatter\n",
    "\n",
    "ty.plots.styles.use(\"typhon\")"
   ]
  },
  {
   "cell_type": "code",
   "execution_count": null,
   "metadata": {},
   "outputs": [],
   "source": [
    "# Run ARTS simulation\n",
    "p, zenith_angles, ifield, ifield_clearsky = scattering()"
   ]
  },
  {
   "cell_type": "code",
   "execution_count": null,
   "metadata": {},
   "outputs": [],
   "source": [
    "# Control parameters\n",
    "zenith_angle = 180.0  # viewing angle [degree, 180° = upward radiation]\n",
    "pressure_level = None  # pressure level [Pa]\n",
    "\n",
    "ia, zenith_angle = argclosest(zenith_angles, zenith_angle, retvalue=True)\n",
    "\n",
    "# Plot Tb vs height for a specific viewing angle\n",
    "f0, a0 = plt.subplots()\n",
    "a0.plot(ifield_clearsky[:, ia], p / 100, label=\"Clear-sky\")\n",
    "a0.plot(ifield[:, ia], p / 100, label=\"Scattering\")\n",
    "a0.grid()\n",
    "a0.set_ylim(p.max() / 100, p.min() / 100)\n",
    "a0.set_ylabel(\"Pressure [hPa]\")\n",
    "a0.set_xlabel(r\"$T_\\mathrm{B}$ [K]\")\n",
    "a0.legend()\n",
    "a0.set_title(rf\"$T_\\mathrm{{B}}$ at $\\Theta$ = {zenith_angle:.0f}°\")\n",
    "\n",
    "# Plot Tb vs Viewing angle for a specific pressure level:\n",
    "if pressure_level is not None:\n",
    "    ip, pressure_level = argclosest(p, pressure_level, retvalue=True)\n",
    "\n",
    "    f1, a1 = plt.subplots(subplot_kw=dict(projection=\"polar\"))\n",
    "    a1.plot(np.deg2rad(zenith_angles), ifield_clearsky[ip, :], label=\"Clear-sky\")\n",
    "    a1.plot(np.deg2rad(zenith_angles), ifield[ip, :], label=\"Scattering\")\n",
    "    a1.legend(loc=\"upper right\")\n",
    "    a1.set_theta_offset(np.deg2rad(+90))\n",
    "    a1.set_theta_direction(-1)\n",
    "    a1.set_thetagrids(np.arange(0, 181, 45), ha=\"left\")\n",
    "    a1.text(0.01, 0.75, r\"$T_\\mathrm{B}$\", transform=a1.transAxes)\n",
    "    a1.yaxis.set_major_formatter(StrMethodFormatter(\"{x:g} K\"))\n",
    "    a1.set_thetamin(0)\n",
    "    a1.set_thetamax(180)\n",
    "    a1.set_xlabel(r\"Viewing angle $\\Theta$\")\n",
    "    a1.set_title(rf\"$T_\\mathrm{{B}}$ at p = {pressure_level/100:.0f} hPa\")\n",
    "\n",
    "plt.show()"
   ]
  }
 ],
 "metadata": {
  "kernelspec": {
   "display_name": "Python 3 (ipykernel)",
   "language": "python",
   "name": "python3"
  },
  "language_info": {
   "codemirror_mode": {
    "name": "ipython",
    "version": 3
   },
   "file_extension": ".py",
   "mimetype": "text/x-python",
   "name": "python",
   "nbconvert_exporter": "python",
   "pygments_lexer": "ipython3",
   "version": "3.10.8"
  }
 },
 "nbformat": 4,
 "nbformat_minor": 4
}
