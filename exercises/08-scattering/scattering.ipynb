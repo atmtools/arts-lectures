{
 "cells": [
  {
   "cell_type": "markdown",
   "metadata": {},
   "source": [
    "# Advanced radiation and remote sensing\n",
    "\n",
    "\n",
    "Manfred Brath, Oliver Lemke\n",
    "\n",
    "## Exercise 8: Scattering"
   ]
  },
  {
   "cell_type": "code",
   "execution_count": null,
   "metadata": {},
   "outputs": [],
   "source": [
    "%matplotlib widget\n",
    "\n",
    "# Set path to line catalogue\n",
    "import os\n",
    "# Uncomment and adjust the following lines\n",
    "# if ARTS_DATA_PATH is not set as environment variable\n",
    "# os.environ[\"ARTS_DATA_PATH\"] = \"your_path_to/arts-xml-data/:your_path_to/arts-cat-data/:\"\n",
    "\n",
    "import numpy as np\n",
    "import matplotlib.pyplot as plt\n",
    "from scattering_module import argclosest, scattering\n",
    "from matplotlib.ticker import StrMethodFormatter"
   ]
  },
  {
   "cell_type": "markdown",
   "metadata": {},
   "source": [
    "### 1)\n",
    "Run the next cell. This will simulate the radiation field at a frequency of $229\\,\\text{GHz}$   \n",
    "for an atmosphere with an ice cloud as well for clear-sky. Since this  \n",
    "is a one-dimensional simulation (vertical dimension only), the calculated   \n",
    "radiation fields have two dimensions: altitude (pressure) and zenith angle.  "
   ]
  },
  {
   "cell_type": "markdown",
   "metadata": {},
   "source": [
    "Plot the two radiation fields in the atmosphere at a zenith angle of $180{^\\circ}$.  \n",
    "Here, the zenith angle describes the viewing direction. This means that you are  \n",
    "looking at the upward directed radiation. The unit is brightness temperature. \n",
    "\n",
    "* Describe the difference between cloudy and clear-sky radiation. \n",
    "* Guess where the ice cloud is located in the atmosphere based on the\n",
    "two radiation fields? \n",
    "* Explain the difference between cloudy and clear-sky radiation."
   ]
  },
  {
   "cell_type": "code",
   "execution_count": null,
   "metadata": {},
   "outputs": [],
   "source": [
    "# Run ARTS simulation\n",
    "p, zenith_angles, ifield, ifield_clearsky = scattering()\n",
    "\n",
    "# Control parameters\n",
    "zenith_angle = 180.0  # viewing angle [degree, 180° = upward radiation]\n",
    "pressure_level = None  # pressure level [Pa]\n",
    "\n",
    "ia, zenith_angle = argclosest(zenith_angles, zenith_angle, retvalue=True)\n",
    "\n",
    "# Plot Tb vs height for a specific viewing angle\n",
    "f0, a0 = plt.subplots()\n",
    "a0.plot(ifield_clearsky[:, ia], p / 100, label=\"Clear-sky\")\n",
    "a0.plot(ifield[:, ia], p / 100, label=\"Scattering\")\n",
    "a0.grid()\n",
    "a0.set_ylim(p.max() / 100, p.min() / 100)\n",
    "a0.set_ylabel(\"Pressure [hPa]\")\n",
    "a0.set_xlabel(r\"$T_\\mathrm{B}$ [K]\")\n",
    "a0.legend()\n",
    "a0.set_title(rf\"$T_\\mathrm{{B}}$ at $\\Theta$ = {zenith_angle:.0f}°\")\n",
    "\n",
    "# Plot Tb vs Viewing angle for a specific pressure level:\n",
    "if pressure_level is not None:\n",
    "    ip, pressure_level = argclosest(p, pressure_level, retvalue=True)\n",
    "\n",
    "    f1, a1 = plt.subplots(subplot_kw=dict(projection=\"polar\"))\n",
    "    a1.plot(np.deg2rad(zenith_angles), ifield_clearsky[ip, :], label=\"Clear-sky\")\n",
    "    a1.plot(np.deg2rad(zenith_angles), ifield[ip, :], label=\"Scattering\")\n",
    "    a1.legend(loc=\"upper right\")\n",
    "    a1.set_theta_offset(np.deg2rad(+90))\n",
    "    a1.set_theta_direction(-1)\n",
    "    a1.set_thetagrids(np.arange(0, 181, 45), ha=\"left\")\n",
    "    a1.text(0.01, 0.75, r\"$T_\\mathrm{B}$\", transform=a1.transAxes)\n",
    "    a1.yaxis.set_major_formatter(StrMethodFormatter(\"{x:g} K\"))\n",
    "    a1.set_thetamin(0)\n",
    "    a1.set_thetamax(180)\n",
    "    a1.set_xlabel(r\"Viewing angle $\\Theta$\")\n",
    "    a1.set_title(rf\"$T_\\mathrm{{B}}$ at p = {pressure_level/100:.0f} hPa\")\n",
    "\n",
    "plt.show()"
   ]
  },
  {
   "cell_type": "markdown",
   "metadata": {},
   "source": [
    "### 2) \n",
    "Change the zenith angle (`zenith_angle`) from $180{^\\circ}$\n",
    "to $0{^\\circ}$ and rerun the previous cell.\n",
    "\n",
    "* Describe and explain the difference.\n",
    "* Why is the brightness temperature at the top of the atmosphere so\n",
    "low?\n",
    "\n",
    "### 3)\n",
    "Now you will look at the radiation fields as a function of zenith\n",
    "angle (viewing direction) at a fixed pressure level. In the Jupyter\n",
    "notebook, change the variable `pressure_level` from `None`\n",
    "to a pressure level in $\\left[\\text{Pa}\\right]$, which is within\n",
    "the ice cloud and rerun previous cell within the notebook.\n",
    "\n",
    "* Explain the shape of the radiation field without the cloud.\n",
    "* How does the radiation field with the cloud differ? \n",
    "\n",
    "### 4)\n",
    "Make the same calculation as in task 3 but with a less or a more dense\n",
    "ice cloud. To do that, you have to call the function `scattering()`\n",
    "within your script with the argument `ice_water_path` set\n",
    "to your desired value in $\\left[\\text{kg}\\,\\text{m}^{-2}\\right]$.\n",
    "The ice water path is the vertically integrated mass content of ice.\n",
    "In task 3, the function `scattering()` used a default value\n",
    "of $2\\,\\text{kg}\\,\\text{m}^{-2}$. "
   ]
  },
  {
   "cell_type": "markdown",
   "metadata": {},
   "source": []
  }
 ],
 "metadata": {
  "kernelspec": {
   "display_name": "Python 3 (ipykernel)",
   "language": "python",
   "name": "python3"
  },
  "language_info": {
   "codemirror_mode": {
    "name": "ipython",
    "version": 3
   },
   "file_extension": ".py",
   "mimetype": "text/x-python",
   "name": "python",
   "nbconvert_exporter": "python",
   "pygments_lexer": "ipython3",
   "version": "3.10.12"
  },
  "vscode": {
   "interpreter": {
    "hash": "6bd45fef6a38d15b43f43de43ba5066924911f80576952f97fb08adaede44831"
   }
  }
 },
 "nbformat": 4,
 "nbformat_minor": 4
}
