{
 "cells": [
  {
   "cell_type": "code",
   "execution_count": null,
   "metadata": {},
   "outputs": [],
   "source": [
    "%load_ext autoreload\n",
    "%autoreload 2"
   ]
  },
  {
   "cell_type": "code",
   "execution_count": null,
   "metadata": {},
   "outputs": [],
   "source": [
    "# Set path to line catalogue\n",
    "import os\n",
    "if \"ARTS_DATA_PATH\" not in os.environ:\n",
    "    os.environ[\"ARTS_DATA_PATH\"] = \"/work/um0878/users/olemke/rtcourse/arts-xml-data/\""
   ]
  },
  {
   "cell_type": "code",
   "execution_count": null,
   "metadata": {},
   "outputs": [],
   "source": [
    "import numpy as np\n",
    "import matplotlib.pyplot as plt\n",
    "import typhon as ty\n",
    "from scattering_module import argclosest, scattering\n",
    "from bokeh.plotting import figure, output_notebook, output_file, show\n",
    "\n",
    "output_notebook()"
   ]
  },
  {
   "cell_type": "code",
   "execution_count": null,
   "metadata": {},
   "outputs": [],
   "source": [
    "# Run ARTS simulation\n",
    "p, zenith_angles, ifield, ifield_clearsky = scattering()"
   ]
  },
  {
   "cell_type": "code",
   "execution_count": null,
   "metadata": {},
   "outputs": [],
   "source": [
    "# Control parameters\n",
    "zenith_angle = 180.0  # viewing angle [degree, 180° = upward radiation]\n",
    "pressure_level = None  # pressure level [Pa]\n",
    "\n",
    "ia, zenith_angle = argclosest(zenith_angles, zenith_angle, retvalue=True)\n",
    "\n",
    "# Plot Tb vs height for a specific viewing angle\n",
    "p0 = figure(width=600, aspect_ratio=3/2,\n",
    "           y_range=(p.max() / 100, p.min() / 100),\n",
    "           tooltips=[(\"x\", \"$x\"), (\"y\", \"$y\")],\n",
    "          title=rf\"T_B at Theta = {zenith_angle:.0f}\")\n",
    "p0.yaxis.axis_label=\"Pressure / hPa\"\n",
    "p0.xaxis.axis_label=\"Brightness temperature / K\"\n",
    "p0.xaxis.minor_tick_line_color = None\n",
    "p0.yaxis.minor_tick_line_color = None\n",
    "\n",
    "p0.line(x=ifield_clearsky[:, ia],\n",
    "        y=p / 100,\n",
    "        line_width=2,\n",
    "        legend_label=f\"Clear-sky\")\n",
    "p0.line(x=ifield[:, ia],\n",
    "        y=p / 100,\n",
    "        line_width=2,\n",
    "        line_color=\"orange\",\n",
    "        legend_label=f\"Scattering\")\n",
    "p0.legend.location=\"bottom_left\"\n",
    "\n",
    "show(p0)\n",
    "\n",
    "# Plot Tb vs Viewing angle for a specific pressure level:\n",
    "if pressure_level is not None:\n",
    "    ip, pressure_level = argclosest(p, pressure_level, retvalue=True)\n",
    "\n",
    "    p1 = figure(width=600, aspect_ratio=3/2,\n",
    "           x_range=(0, 180),\n",
    "           tooltips=[(\"x\", \"$x\"), (\"y\", \"$y\")],\n",
    "          title=rf\"T_B at p = {pressure_level/100:.0f}\")\n",
    "    p1.yaxis.axis_label=\"Pressure / hPa\"\n",
    "    p1.xaxis.axis_label=\"Viewing angle Theta\"\n",
    "    p1.xaxis.minor_tick_line_color = None\n",
    "    p1.yaxis.minor_tick_line_color = None\n",
    "\n",
    "    p1.line(x=zenith_angles,\n",
    "            y=ifield_clearsky[ip, :],\n",
    "            line_width=2,\n",
    "            legend_label=f\"Clear-sky\")\n",
    "    p1.line(x=zenith_angles,\n",
    "            y=ifield[ip, :],\n",
    "            line_width=2,\n",
    "            line_color=\"orange\",\n",
    "            legend_label=f\"Scattering\")\n",
    "    p1.legend.location=\"top_left\"\n",
    "\n",
    "    show(p1)"
   ]
  }
 ],
 "metadata": {
  "kernelspec": {
   "display_name": "Python 3 bleeding edge (using the module anaconda3/bleeding_edge)",
   "language": "python",
   "name": "anaconda3_bleeding"
  },
  "language_info": {
   "codemirror_mode": {
    "name": "ipython",
    "version": 3
   },
   "file_extension": ".py",
   "mimetype": "text/x-python",
   "name": "python",
   "nbconvert_exporter": "python",
   "pygments_lexer": "ipython3",
   "version": "3.6.10"
  }
 },
 "nbformat": 4,
 "nbformat_minor": 4
}
