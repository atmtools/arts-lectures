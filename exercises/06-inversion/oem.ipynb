{
 "cells": [
  {
   "cell_type": "code",
   "execution_count": null,
   "metadata": {},
   "outputs": [],
   "source": [
    "%matplotlib inline"
   ]
  },
  {
   "cell_type": "code",
   "execution_count": null,
   "metadata": {},
   "outputs": [],
   "source": [
    "# Set path to line catalogue\n",
    "import os\n",
    "# Uncomment and adjust the following lines\n",
    "# if ARTS_DATA_PATH is not set as environment variable\n",
    "# os.environ[\"ARTS_DATA_PATH\"] = \"your_path_to/arts-xml-data/:your_path_to/arts-cat-data/:\""
   ]
  },
  {
   "cell_type": "code",
   "execution_count": null,
   "metadata": {},
   "outputs": [],
   "source": [
    "import matplotlib.pyplot as plt\n",
    "import numpy as np\n",
    "from scipy.linalg import inv\n",
    "\n",
    "import typhon as ty\n",
    "from pyarts import xml\n",
    "from oem_module import forward_model\n",
    "\n",
    "plt.style.use(ty.plots.styles(\"typhon\"))"
   ]
  },
  {
   "cell_type": "code",
   "execution_count": null,
   "metadata": {},
   "outputs": [],
   "source": [
    "# Load the (simulated) measurement.\n",
    "measurement = xml.load(\"input/measurement.xml\")\n",
    "f_grid = measurement.grids[0]\n",
    "y_measurement = measurement.data\n",
    "\n",
    "# Load the a priori atmospheric state.\n",
    "atm_fields = xml.load(\"input/x_apriori.xml\")\n",
    "z = atm_fields.get(\"z\", keep_dims=False)\n",
    "x_apriori = atm_fields.get(\"abs_species-H2O\", keep_dims=False)\n",
    "\n",
    "# Load the covariance matrices.\n",
    "S_xa = xml.load(\"input/S_xa.xml\")\n",
    "S_y = 2.5e-3 * np.eye(f_grid.size)  # in [K^2]"
   ]
  },
  {
   "cell_type": "code",
   "execution_count": null,
   "metadata": {},
   "outputs": [],
   "source": [
    "# Plot the y measurement.\n"
   ]
  },
  {
   "cell_type": "code",
   "execution_count": null,
   "metadata": {},
   "outputs": [],
   "source": [
    "# Run the forward model (ARTS).\n",
    "y, K = forward_model(f_grid, atm_fields)"
   ]
  },
  {
   "cell_type": "code",
   "execution_count": null,
   "metadata": {},
   "outputs": [],
   "source": [
    "# Plot the y measurement alongside the simulated y for the a priori.\n"
   ]
  },
  {
   "cell_type": "code",
   "execution_count": null,
   "metadata": {},
   "outputs": [],
   "source": [
    "# Plot the Jacobians.\n"
   ]
  },
  {
   "cell_type": "code",
   "execution_count": null,
   "metadata": {},
   "outputs": [],
   "source": [
    "# Plot the covariance matrices.\n"
   ]
  },
  {
   "cell_type": "code",
   "execution_count": null,
   "metadata": {},
   "outputs": [],
   "source": [
    "# Implement the retrieve function.\n",
    "def retrieve(y, K, xa, ya, Sa, Sy):\n",
    "    \"\"\"Perform an OEM retrieval.\n",
    "\n",
    "    Parameters:\n",
    "        y (np.ndarray): Measuremed brightness temperature [K].\n",
    "        K (np.ndarray): Jacobians [K/1].\n",
    "        xa (np.ndarray): A priori state [VMR].\n",
    "        ya (np.ndarray): Forward simulation of a priori state ``F(xa)`` [K].\n",
    "        Sa (np.ndarray): A priori error covariance matrix.\n",
    "        Sy (np.ndarray): Measurement covariance matrix\n",
    "\n",
    "    Returns:\n",
    "        np.ndarray: Retrieved atmospheric state.\n",
    "\n",
    "    \"\"\"\n",
    "    raise NotImplementedError"
   ]
  },
  {
   "cell_type": "code",
   "execution_count": null,
   "metadata": {},
   "outputs": [],
   "source": [
    "# Plot the OEM result next to the true atmospheric state and the a priori.\n",
    "# x_oem = retrieve(y_measurement, K, x_apriori, y, S_xa, S_y)\n"
   ]
  },
  {
   "cell_type": "code",
   "execution_count": null,
   "metadata": {},
   "outputs": [],
   "source": [
    "# Implement the averaging_kernel_matrix function.\n",
    "def averaging_kernel_matrix(K, Sa, Sy):\n",
    "    \"\"\"Calculate the averaging kernel matrix.\n",
    "\n",
    "    Parameters:\n",
    "        K (np.ndarray): Simulated Jacobians.\n",
    "        Sa (np.ndarray): A priori error covariance matrix.\n",
    "        Sy (np.ndarray): Measurement covariance matrix.\n",
    "\n",
    "    Returns:\n",
    "        np.ndarray: Averaging kernel matrix.\n",
    "    \"\"\"\n",
    "    raise NotImplementedError"
   ]
  },
  {
   "cell_type": "code",
   "execution_count": null,
   "metadata": {},
   "outputs": [],
   "source": [
    "# Plot the averaging kernels and the measurement response.\n",
    "# A = averaging_kernel_matrix(K, S_xa, S_y)\n"
   ]
  }
 ],
 "metadata": {
  "kernelspec": {
   "display_name": "Python 3 (ipykernel)",
   "language": "python",
   "name": "python3"
  },
  "language_info": {
   "codemirror_mode": {
    "name": "ipython",
    "version": 3
   },
   "file_extension": ".py",
   "mimetype": "text/x-python",
   "name": "python",
   "nbconvert_exporter": "python",
   "pygments_lexer": "ipython3",
   "version": "3.10.8"
  }
 },
 "nbformat": 4,
 "nbformat_minor": 4
}
