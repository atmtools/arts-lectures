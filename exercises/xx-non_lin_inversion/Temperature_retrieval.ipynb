{
 "cells": [
  {
   "cell_type": "markdown",
   "metadata": {},
   "source": [
    "\n",
    "## Exercise 8: Temperature retrieval from airborne observations"
   ]
  },
  {
   "cell_type": "code",
   "execution_count": null,
   "metadata": {},
   "outputs": [],
   "source": [
    "%matplotlib widget\n",
    "\n",
    "import os\n",
    "import matplotlib.pyplot as plt\n",
    "import numpy as np\n",
    "from pyarts import xml\n",
    "from nonlin_oem import Forward_model, set_correlation_length, create_apriori_covariance_matrix, temperature_retrieval\n",
    "\n",
    "os.makedirs(\"plots\", exist_ok=True)"
   ]
  },
  {
   "cell_type": "markdown",
   "metadata": {},
   "source": [
    "In this exercise we want to retrieve temperature profiles from (simulated) \n",
    "airborne microwave radiometer observation using the optimal estimation method.\n",
    "The radiometer is the HAMP radiometer on board the HALO aircraft.\n",
    "The radiometer measures the brightness temperature at several set of channels.\n",
    "In this exercise we will use the sets of channels around 22GHz, 50GHz and 118GHz.\n",
    "The radiometer is mounted in the belly pod of the HALO aircraft and measures the \n",
    "brightness temperature at nadir.\n",
    "We will use a simplified version of the HAMP radiometer but with the correct\n",
    "channels and NeDT.\n",
    "\n",
    "![HALO aircraft](Halo.jpg)\n",
    "*source https://halo-research.de/ressources/image-galery/*\n",
    "\n",
    "The NeDT (Noise equivalent delta temperature) are the following:\n",
    "\n",
    "* 22GHz channels: 0.1K\n",
    "* 50GHz channels: 0.2K\n",
    "* 118GHz channels: 0.6K\n",
    "\n",
    "The measurement data consists of a short ($\\approx$ 100km) flight segment of the HALO aircraft at clear sky conditions over the tropical pacific.\n",
    "The flight segment is at 15km altitude. The measurement data consists of brightness temperature observations for the three sets of channels.\n",
    "Each data set consists of a file that contains the measurement data (*y_obs_xxxGHz.xml*), a file with the frequencies (*f_grid_xxxGHz.xml*) \n",
    "and a file with the latitudeof the measurements (*lat.xml*).\n",
    "Furthermore there also exists dropsonde measurement data (*dropsonde.xml*) from one dropsonde that was released during the flight segment.  The dropsonde data contains the temperature, altitude and H2O vmr profiles as function of pressure. \n",
    "The measurement data is stored in the directory *observation*.\n",
    "The surface temperature during that flight segment was 300K. The surface reflectivity is 0.4 for all frequencies for that flight segment."
   ]
  },
  {
   "cell_type": "markdown",
   "metadata": {},
   "source": [
    "### Part I - Preparations"
   ]
  },
  {
   "cell_type": "markdown",
   "metadata": {},
   "source": [
    "#### 1) \n",
    "Read in the measurement data and plot the brightness temperature observations for the three sets of channels as function of latitude. Furthermore plot the dropsonde temperature profile."
   ]
  },
  {
   "cell_type": "code",
   "execution_count": null,
   "metadata": {},
   "outputs": [],
   "source": [
    "# Load the observation data\n",
    "f_grid_22GHz = xml.load(\"observation/f_grid_22GHz.xml\")[:] # [:] converts the data to a numpy array\n",
    "y_obs_22GHz = xml.load(\"observation/y_obs_22GHz.xml.xml\")[:]\n",
    "#...\n",
    "\n",
    "#...and the dropsonde data\n",
    "dropsonde = xml.load(\"observation/dropsonde.xml\")\n",
    "\n",
    "# dropsonde.grids[0] gives you the name of the variables in the dropsonde file\n",
    "# Use dropsonde.get(\"VARIABLENAME\", keep_dims=False) to get the data of the variable VARIABLENAME\n",
    "# dropsonde.grids[1][:] gives the pressure grid\n",
    "\n",
    "# Plot the observation data"
   ]
  },
  {
   "cell_type": "markdown",
   "metadata": {},
   "source": [
    "#### 2)\n",
    "Decide and explain which set of channels you want to use for the temperature retrieval.\n",
    "If you want you can use the dropsonde data and the function forward model to simulate the brightness temperatures  and jacobians for the dropsonde temperature profile, but **you don't have to**."
   ]
  },
  {
   "cell_type": "code",
   "execution_count": null,
   "metadata": {},
   "outputs": [],
   "source": [
    "# y_obs, jacobians = Forward_model(f_grid, dropsonde_data,...)\n"
   ]
  },
  {
   "cell_type": "markdown",
   "metadata": {},
   "source": [
    "#### 3)\n",
    "Prepare the covariance matrices for the temperature retrieval.\n",
    "Use the function *create_apriori_covariance_matrix* to create the a priori covariance matrix. The function assumes that an exponentially decaying correlation function is used. \n",
    "\n",
    "You can use the function *set_correlation_length(z, len_sfc, len_toa=None)* to set the correlation length for the a priori covariance matrix. You can use a constant or a linearly increasing correlation length with height.\n",
    "Make an educated guess for the correlation length. Remember that the flight segment is over the tropical pacific.\n",
    "\n",
    " *Set the a priori covaraince matrix for the temperature retrieval.\n",
    "* Set the measurement error covariance matrix using the NeDT values. Assume a diagonal matrix.\n",
    "* Plot the covariance matrices in suitable way."
   ]
  },
  {
   "cell_type": "code",
   "execution_count": null,
   "metadata": {},
   "outputs": [],
   "source": [
    "# correlation_length = set_correlation_length(z, len_sfc, len_toa)\n",
    "# S_a = create_apriori_covariance_matrix(x, z, delta_x, correlation_length)\n",
    "\n",
    "# S_y = ..."
   ]
  },
  {
   "cell_type": "markdown",
   "metadata": {},
   "source": [
    "### Part II - Retrieval\n"
   ]
  },
  {
   "cell_type": "markdown",
   "metadata": {},
   "source": [
    "#### 4)\n",
    "Use the function *temperature_retrieval* to retrieve the temperature profile from the first brightness temperature observation of the flight segment. The function has the following signature:\n",
    "```python   \n",
    "   T_ret, DeltaT, y_fit = temperature_retrieval(f_grid, y_obs, sensor_pos, sensor_los, background_atmosphere, surface_temperature, surface_reflectivity, S_y, S_a)\n",
    "```     \n",
    "*sensor_pos*, *sensor_los*, *background_atmosphere*, *surface_temperature*, *surface_reflectivity* describe the background state of the atmosphere and the sensor position and line of sight. \n",
    "*background_atmosphere* has a double function. It includes the background atmospheric state (e. g. water vapor profile) for the non retrieved atmospheric variables and the a priori temperature profile. \n",
    "\n",
    "The function returns the retrieved temperature profile, the total error of the retrieved temperature profile and the fitted brightness temperature measurement. \n",
    "\n",
    "Use the prepared covariance matrices for the retrieval and the dropsonde data as background state and a priori temperature profile.\n",
    "\n",
    "Check the results:\n",
    "* Plot the a priori temperature profile, retrieved temperature profile in one plot and the difference between the retrieved and a priori temperature profile in a second plot. \n",
    "* plot the difference between the fitted and measured brightness temperature.\n",
    "* If you want you can also plot the averaging kernels and the gain matrix. To do that, set the keyword *Diagnostics=True* in the function *temperature_retrieval* and add *A* and *G* to the output of the function.\n"
   ]
  },
  {
   "cell_type": "code",
   "execution_count": null,
   "metadata": {},
   "outputs": [],
   "source": [
    "# T_ret, DeltaT, y_fit = temperature_retrieval(f_grid, sensor_pos, sensor_los, y_obs, , surface_temperature, surface_reflectivity, S_y, S_a)"
   ]
  },
  {
   "cell_type": "markdown",
   "metadata": {},
   "source": [
    "#### 5)\n",
    "Repeat the retrieval for the rest of the flight segment. \n",
    "\n",
    "* Plot the retrieved temperature profiles and the difference to the a priori as function of altitude and latitude. \n",
    "* Plot the total error of the retrieved temperature profiles as function of altitude and latitude. \n",
    "* Plot the difference between the fitted and measured brightness temperature (residuals) as function of latitude.\n",
    "\n",
    "\n",
    "\n"
   ]
  }
 ],
 "metadata": {
  "language_info": {
   "name": "python"
  }
 },
 "nbformat": 4,
 "nbformat_minor": 2
}
