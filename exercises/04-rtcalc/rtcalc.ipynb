{
 "cells": [
  {
   "cell_type": "markdown",
   "metadata": {},
   "source": [
    "# Advanced radiation and remote sensing\n",
    "\n",
    "Manfred Brath, Oliver Lemke\n",
    "\n",
    "## Exercise 4: Atmospheric Brightness Temperature Spectra"
   ]
  },
  {
   "cell_type": "code",
   "execution_count": null,
   "metadata": {},
   "outputs": [],
   "source": [
    "%matplotlib widget\n",
    "\n",
    "\n",
    "# Set path to line catalogue\n",
    "import os\n",
    "# Uncomment and adjust the following lines\n",
    "# if ARTS_DATA_PATH is not set as environment variable\n",
    "# os.environ[\"ARTS_DATA_PATH\"] = \"your_path_to/arts-xml-data/:your_path_to/arts-cat-data/:\"\n",
    "\n",
    "import matplotlib.pyplot as plt\n",
    "import numpy as np\n",
    "import typhon as ty\n",
    "from rtcalc_module import run_arts, tags2tex\n",
    "\n",
    "plt.style.use(ty.plots.styles(\"typhon\"))"
   ]
  },
  {
   "cell_type": "markdown",
   "metadata": {},
   "source": [
    "### 1)\n",
    "The function **run\\_arts** simulates a brightness temperature and a atmospheric  \n",
    "zenith opacity spectrum in the microwave spectral range for a midlatitude-summer  \n",
    "atmosphere over a smooth and wet land surface for a desired height and looking   \n",
    "direction.\n",
    "\n",
    "\n",
    "Run the function **run\\_arts** with the given values for height and direction.  \n",
    "Ignore the brightness temperature for now and consider the zenith opacity spectrum   \n",
    "to answer the following questions:\n",
    "\n",
    "* The spectrum includes four spectral lines. To which species do these lines  \n",
    "belong? Play around with different absorption species.\n",
    "* We speak of window regions where the zenith opacity is below 1. Where are they?"
   ]
  },
  {
   "cell_type": "code",
   "execution_count": null,
   "metadata": {},
   "outputs": [],
   "source": [
    "# Parameters\n",
    "species = [\"N2\", \"O2\", \"H2O\"]\n",
    "height = 0.0\n",
    "zenith_angle = 0.0\n",
    "\n",
    "freq, bt, od = run_arts(species, zenith_angle, height)"
   ]
  },
  {
   "cell_type": "code",
   "execution_count": null,
   "metadata": {},
   "outputs": [],
   "source": [
    "HIGHLIGHT_FREQS = (22.3, 60.0, 118.8, 183.0)\n",
    "\n",
    "# Plot the zenith opacity with logarithmic scale on y axis\n",
    "fig, ax = plt.subplots()\n",
    "ax.semilogy(freq / 1e9, od)\n",
    "ax.axhline(1, linewidth=0.8, color=\"#b0b0b0\", zorder=0)\n",
    "ax.grid(True, axis=\"x\")\n",
    "ax.set_xticks(HIGHLIGHT_FREQS)\n",
    "ax.set_xlim(freq.min() / 1e9, freq.max() / 1e9)\n",
    "ax.set_xlabel(\"Frequency [GHz]\")\n",
    "ax.set_ylabel(\"Zenith opacity\")\n",
    "ax.set_title(f\"{', '.join(tags2tex(species))}\")\n",
    "fig.savefig(f\"plots/opacity_{'+'.join(species)}.pdf\")"
   ]
  },
  {
   "cell_type": "markdown",
   "metadata": {},
   "source": [
    "### 2)\n",
    "Brightness temperature is a unit for intensity. It is the temperature of a  \n",
    "blackbody that emits the same amount of intensity. Mathematically, the  \n",
    "transformation between intensity in SI units and intensity in brightness  \n",
    "temperature is done with the Planck formula. ARTS is capable to perform  \n",
    "simulation in units of brightness temperature. Uncomment the code part for  \n",
    "the second task. Investigate the brightness temperature spectra for  \n",
    "different hypothetical sensors:\n",
    "\n",
    "* A ground-based sensor looking in the zenith direction.\n",
    "* A sensor on an airplane ($z=10\\,\\text{km}$) looking in the zenith direction.\n",
    "\n",
    "Consider both opacity and brightness temperatures to answer the following  \n",
    "questions:\n",
    "\n",
    "* In plot (a), why do the lines near $60\\,\\text{GHz}$ and near $180\\,\\text{GHz}$   \n",
    "appear flat on top? \n",
    "* In plot (b), why is the line at $180\\,\\text{GHz}$ smaller than before? \n",
    "* Describe the difference between plots (a) and (b). What happens to the  \n",
    "lines, what happens to the background? Can you explain what you\n",
    "see? "
   ]
  },
  {
   "cell_type": "code",
   "execution_count": null,
   "metadata": {},
   "outputs": [],
   "source": [
    "# Parameters\n",
    "species = [\"N2\", \"O2\", \"H2O\"]\n",
    "height = 0.0\n",
    "zenith_angle = 0.0\n",
    "\n",
    "freq, bt, od = run_arts(species, zenith_angle, height)"
   ]
  },
  {
   "cell_type": "code",
   "execution_count": null,
   "metadata": {},
   "outputs": [],
   "source": [
    "HIGHLIGHT_FREQS = (22.3, 60.0, 118.8, 183.0)\n",
    "\n",
    "# Plot the zenith opacity with logarithmic scale on y axis\n",
    "fig, ax = plt.subplots()\n",
    "ax.semilogy(freq / 1e9, od)\n",
    "ax.axhline(1, linewidth=0.8, color=\"#b0b0b0\", zorder=0)\n",
    "ax.grid(True, axis=\"x\")\n",
    "ax.set_xticks(HIGHLIGHT_FREQS)\n",
    "ax.set_xlim(freq.min() / 1e9, freq.max() / 1e9)\n",
    "ax.set_xlabel(\"Frequency [GHz]\")\n",
    "ax.set_ylabel(\"Zenith opacity\")\n",
    "ax.set_title(f\"{', '.join(tags2tex(species))}\")\n",
    "fig.savefig(f\"plots/opacity_{'+'.join(species)}.pdf\")\n",
    "\n",
    "# Plot the brightness temperature\n",
    "fig, ax = plt.subplots()\n",
    "ax.plot(freq / 1e9, bt)\n",
    "ax.grid(True)\n",
    "ax.set_xticks(HIGHLIGHT_FREQS)\n",
    "ax.set_xlim(freq.min() / 1e9, freq.max() / 1e9)\n",
    "ax.set_xlabel(\"Frequency [GHz]\")\n",
    "ax.set_ylabel(\"Brightness temperature [K]\")\n",
    "ax.set_title(f\"{', '.join(tags2tex(species))}, {height / 1e3} km, {zenith_angle}°\")\n",
    "fig.savefig(\n",
    "    f\"plots/brightness_temperature_{'+'.join(species)}_{height / 1e3:.0f}km_{zenith_angle:.0f}deg.pdf\"\n",
    ")"
   ]
  },
  {
   "cell_type": "markdown",
   "metadata": {},
   "source": [
    "### 3)\n",
    "Make the same calculation as in task 2 for a satellite sensor ($z=800\\,\\text{km}$) looking  \n",
    "nadir (straight down).\n",
    "\n",
    "Answer following questions:\n",
    "\n",
    "* Explain the brightness temperature simulated in the window regions.\n",
    "* Why does the line at $22\\,\\text{GHz}$ look different from the others?\n",
    "* Investigate the the $\\text{O}_{2}$ line at $120\\,\\text{GHz}$. Perform an ARTS simulation\n",
    "focused around that frequency. Why does the shape  close to the center of the $\\text{O}_{2}$  \n",
    "line at $120\\,\\text{GHz}$ looks so differently compared to the $183\\,\\text{GHz}$. "
   ]
  },
  {
   "cell_type": "markdown",
   "metadata": {},
   "source": []
  }
 ],
 "metadata": {
  "kernelspec": {
   "display_name": "Python 3 (ipykernel)",
   "language": "python",
   "name": "python3"
  },
  "language_info": {
   "codemirror_mode": {
    "name": "ipython",
    "version": 3
   },
   "file_extension": ".py",
   "mimetype": "text/x-python",
   "name": "python",
   "nbconvert_exporter": "python",
   "pygments_lexer": "ipython3",
   "version": "3.10.8"
  },
  "vscode": {
   "interpreter": {
    "hash": "6bd45fef6a38d15b43f43de43ba5066924911f80576952f97fb08adaede44831"
   }
  }
 },
 "nbformat": 4,
 "nbformat_minor": 4
}
