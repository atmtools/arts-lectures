{
 "cells": [
  {
   "cell_type": "markdown",
   "metadata": {},
   "source": [
    "## Calculate and plot zenith opacity and brightness temperatures"
   ]
  },
  {
   "cell_type": "code",
   "execution_count": null,
   "metadata": {},
   "outputs": [],
   "source": [
    "# Set path to line catalogue\n",
    "import os\n",
    "if \"ARTS_DATA_PATH\" not in os.environ:\n",
    "    os.environ[\"ARTS_DATA_PATH\"] = \"/work/um0878/users/olemke/rtcourse/arts-xml-data/\""
   ]
  },
  {
   "cell_type": "code",
   "execution_count": null,
   "metadata": {},
   "outputs": [],
   "source": [
    "from bokeh.plotting import figure, output_notebook, output_file, show\n",
    "import numpy as np\n",
    "import typhon as ty\n",
    "from rtcalc_module import run_arts, tags2tex\n",
    "\n",
    "output_notebook()"
   ]
  },
  {
   "cell_type": "code",
   "execution_count": null,
   "metadata": {},
   "outputs": [],
   "source": [
    "# Parameters\n",
    "species = [\"N2\", \"O2\", \"H2O\"]\n",
    "height = 0.0\n",
    "zenith_angle = 0.0\n",
    "\n",
    "freq, bt, od = run_arts(species, zenith_angle, height)"
   ]
  },
  {
   "cell_type": "code",
   "execution_count": null,
   "metadata": {},
   "outputs": [],
   "source": [
    "HIGHLIGHT_FREQS = (22.3, 60.0, 118.8, 183.0)\n",
    "\n",
    "# Plot the zenith opacity with logarithmic scale on y axis\n",
    "p1 = figure(title=f\"{', '.join(species)}\",\n",
    "            y_axis_type=\"log\",\n",
    "            x_range=(freq.min() / 1e9, freq.max() / 1e9),\n",
    "            width=800,\n",
    "            tooltips=[(\"x\", \"$x\"), (\"value\", \"@y\")],\n",
    "            aspect_ratio=3/2)\n",
    "\n",
    "p1.line(freq / 1e9, od, line_width=2)\n",
    "p1.xaxis.ticker = p1.xgrid.ticker = HIGHLIGHT_FREQS\n",
    "p1.xaxis.axis_label = \"Frequency / GHz\"\n",
    "p1.yaxis.axis_label = \"Zenith opacity\"\n",
    "\n",
    "output_file(f\"plots/opacity_{'+'.join(species)}.html\")\n",
    "show(p1)\n",
    "\n",
    "# # Plot the brightness temperature\n",
    "# p2 = figure(title=f\"{', '.join(species)}, {height / 1e3} km, {zenith_angle}°\",\n",
    "#             x_range=(freq.min() / 1e9, freq.max() / 1e9),\n",
    "#             width=800,\n",
    "#             tooltips=[(\"x\", \"$x\"), (\"value\", \"@y\")],\n",
    "#             aspect_ratio=3/2)\n",
    "\n",
    "# p2.line(freq / 1e9, bt, line_width=2)\n",
    "# p2.xaxis.ticker = p2.xgrid.ticker = HIGHLIGHT_FREQS\n",
    "# p2.xaxis.axis_label = \"Frequency / GHz\"\n",
    "# p2.yaxis.axis_label = \"Brightness temperature / K\"\n",
    "\n",
    "# output_file(f\"plots/brightness_temperature_{'+'.join(species)}_{height / 1e3:.0f}km_{zenith_angle:.0f}deg.html\")\n",
    "# show(p2)"
   ]
  }
 ],
 "metadata": {
  "kernelspec": {
   "display_name": "Python 3 bleeding edge (using the module anaconda3/bleeding_edge)",
   "language": "python",
   "name": "anaconda3_bleeding"
  },
  "language_info": {
   "codemirror_mode": {
    "name": "ipython",
    "version": 3
   },
   "file_extension": ".py",
   "mimetype": "text/x-python",
   "name": "python",
   "nbconvert_exporter": "python",
   "pygments_lexer": "ipython3",
   "version": "3.6.10"
  }
 },
 "nbformat": 4,
 "nbformat_minor": 4
}
