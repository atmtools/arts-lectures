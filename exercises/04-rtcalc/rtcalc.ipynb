{
 "cells": [
  {
   "cell_type": "markdown",
   "metadata": {},
   "source": [
    "## Calculate and plot zenith opacity and brightness temperatures"
   ]
  },
  {
   "cell_type": "code",
   "execution_count": null,
   "metadata": {},
   "outputs": [],
   "source": [
    "%matplotlib inline"
   ]
  },
  {
   "cell_type": "code",
   "execution_count": null,
   "metadata": {},
   "outputs": [],
   "source": [
    "# Set path to line catalogue\n",
    "import os\n",
    "os.environ[\"ARTS_DATA_PATH\"] = \"/work/um0878/users/olemke/rtcourse/arts-xml-data/\""
   ]
  },
  {
   "cell_type": "code",
   "execution_count": null,
   "metadata": {},
   "outputs": [],
   "source": [
    "import matplotlib.pyplot as plt\n",
    "import numpy as np\n",
    "import typhon as ty\n",
    "from rtcalc_module import run_arts, tags2tex\n",
    "\n",
    "plt.style.use(ty.plots.styles(\"typhon\"))"
   ]
  },
  {
   "cell_type": "code",
   "execution_count": null,
   "metadata": {},
   "outputs": [],
   "source": [
    "# Parameters\n",
    "species = [\"N2\", \"O2\", \"H2O\"]\n",
    "height = 0.0\n",
    "zenith_angle = 0.0\n",
    "\n",
    "freq, bt, od = run_arts(species, zenith_angle, height)"
   ]
  },
  {
   "cell_type": "code",
   "execution_count": null,
   "metadata": {},
   "outputs": [],
   "source": [
    "HIGHLIGHT_FREQS = (22.3, 60.0, 118.8, 183.0)\n",
    "\n",
    "# Plot the zenith opacity with logarithmic scale on y axis\n",
    "fig, ax = plt.subplots()\n",
    "ax.semilogy(freq / 1e9, od)\n",
    "ax.axhline(1, linewidth=0.8, color=\"#b0b0b0\", zorder=0)\n",
    "ax.grid(True, axis=\"x\")\n",
    "ax.set_xticks(HIGHLIGHT_FREQS)\n",
    "ax.set_xlim(freq.min() / 1e9, freq.max() / 1e9)\n",
    "ax.set_xlabel(\"Frequency [GHz]\")\n",
    "ax.set_ylabel(\"Zenith opacity\")\n",
    "ax.set_title(f\"{', '.join(tags2tex(species))}\")\n",
    "fig.savefig(f\"plots/opacity_{'+'.join(species)}.pdf\")\n",
    "\n",
    "# # Plot the brightness temperature\n",
    "# fig, ax = plt.subplots()\n",
    "# ax.plot(freq / 1e9, bt)\n",
    "# ax.grid(True)\n",
    "# ax.set_xticks(HIGHLIGHT_FREQS)\n",
    "# ax.set_xlim(freq.min() / 1e9, freq.max() / 1e9)\n",
    "# ax.set_xlabel(\"Frequency [GHz]\")\n",
    "# ax.set_ylabel(\"Brightness temperature [K]\")\n",
    "# ax.set_title(f\"{', '.join(tags2tex(species))}, {height / 1e3} km, {zenith_angle}°\")\n",
    "# fig.savefig(\n",
    "#     f\"plots/brightness_temperature_{'+'.join(species)}_{height / 1e3:.0f}km_{zenith_angle:.0f}deg.pdf\"\n",
    "# )"
   ]
  }
 ],
 "metadata": {
  "kernelspec": {
   "display_name": "Python 3 bleeding edge (using the module anaconda3/bleeding_edge)",
   "language": "python",
   "name": "anaconda3_bleeding"
  },
  "language_info": {
   "codemirror_mode": {
    "name": "ipython",
    "version": 3
   },
   "file_extension": ".py",
   "mimetype": "text/x-python",
   "name": "python",
   "nbconvert_exporter": "python",
   "pygments_lexer": "ipython3",
   "version": "3.6.10"
  }
 },
 "nbformat": 4,
 "nbformat_minor": 4
}
