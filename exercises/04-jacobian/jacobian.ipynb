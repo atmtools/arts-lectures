{
 "cells": [
  {
   "cell_type": "markdown",
   "metadata": {},
   "source": [
    "# Advanced radiation and remote sensing\n",
    "\n",
    "\n",
    "Manfred Brath, Oliver Lemke\n",
    "\n",
    "## Exercise 4: Jacobian and opacity rule"
   ]
  },
  {
   "cell_type": "code",
   "execution_count": null,
   "metadata": {},
   "outputs": [],
   "source": [
    "%matplotlib widget\n",
    "\n",
    "\n",
    "# Set path to line catalogue\n",
    "import os\n",
    "# Uncomment and adjust the following lines\n",
    "# if ARTS_DATA_PATH is not set as environment variable\n",
    "# os.environ[\"ARTS_DATA_PATH\"] = \"your_path_to/arts-xml-data/:your_path_to/arts-cat-data/:\"\n",
    "\n",
    "import matplotlib.pyplot as plt\n",
    "import numpy as np\n",
    "from pyarts import xml\n",
    "from jacobian import (calc_jacobians, plot_brightness_temperature,\n",
    "                             plot_jacobian, plot_opacity, plot_opacity_profile,\n",
    "                             argclosest)\n"
   ]
  },
  {
   "cell_type": "markdown",
   "metadata": {},
   "source": [
    "### 1)\n",
    "Run the next cells to calculate the brightness temperature spectrum in   \n",
    "nadir direction and the zenith opacity around the $183\\,\\text{GHz}$ line  \n",
    "of water vapor for a midlatitude summer atmosphere. Answer following  \n",
    "question:\n",
    "\n",
    "* Are there window regions?\n",
    "\n",
    "The atmospheric temperature profile for the calculation was:\n",
    "\n",
    "|**Pressure** $\\left[\\text{hPa}\\right]$|**Temperature** $\\left[\\text{K}\\right]$ | **Altitude** $\\left[\\text{km}\\right]$\n",
    "|---    |---    |---\n",
    "|1013.0 | 294.2 | 0\n",
    "|902.0 | 289.7 | 1\n",
    "|802.0 | 285.2 | 2\n",
    "|710.0 | 279.2 | 3\n",
    "|628.0 | 273.2 | 4\n",
    "|554.0 | 267.2 | 5\n",
    "|487.0 | 261.2 | 6\n",
    "|426.0 | 254.7 | 7\n",
    "|372.0 | 248.2 | 8\n",
    "|324.0 | 241.7 | 9\n",
    "|281.0 | 235.3 | 10\n",
    "|243.0 | 228.8 | 11\n",
    "|209.0 | 222.3 | 12\n",
    "|179.0 | 215.8 | 13\n",
    "|153.0 | 215.7 | 14\n",
    "|130.0 | 215.7 | 15\n",
    "|111.0 | 215.7 | 16\n",
    "|95.0 | 215.7 | 17\n",
    "|81.2 | 216.8 | 18\n",
    "|69.5 | 217.9 | 19\n",
    "|59.5 | 219.2 | 20\n",
    "\n",
    "Consider the table and answer following questions:\n",
    "\n",
    "* From which altitude does the radiation at the peak of the line ($\\approx183\\,\\text{GHz}$)  \n",
    "originate? \n",
    "\n",
    "* From which altitude does the radiation at the wing ($150\\,\\text{GHz}$) originate? \n"
   ]
  },
  {
   "cell_type": "code",
   "execution_count": null,
   "metadata": {},
   "outputs": [],
   "source": [
    "# Calculate Jacobians (ARTS)\n",
    "jacobian_quantity = \"H2O\"\n",
    "calc_jacobians(jacobian_quantity=jacobian_quantity)\n",
    "\n",
    "# read in everything\n",
    "freq = np.array(xml.load(\"results/f_grid.xml\"))\n",
    "tau = np.array(xml.load(\"results/optical_thickness.xml\"))\n",
    "bt = np.array(xml.load(\"results/y.xml\"))\n",
    "jac = np.array(xml.load(\"results/jacobian.xml\"))\n",
    "alt = np.array(xml.load(\"results/z_field.xml\")).ravel()\n",
    "jac /= np.gradient(alt / 1000)  # normalize by layer thickness in km"
   ]
  },
  {
   "cell_type": "code",
   "execution_count": null,
   "metadata": {},
   "outputs": [],
   "source": [
    "# select frequency\n",
    "highlight_frequency = 180e9  # Hz\n",
    "\n",
    "if highlight_frequency is None:\n",
    "    fig, (ax0, ax1) = plt.subplots(ncols=2)\n",
    "    plot_brightness_temperature(freq, bt, ax=ax0)\n",
    "    plot_opacity(freq, tau, ax=ax1)\n",
    "    freq_ind = None\n",
    "else:\n",
    "    fig, ((ax0, ax1), (ax2, ax3)) = plt.subplots(2, 2)\n",
    "    plot_brightness_temperature(freq, bt, where=highlight_frequency, ax=ax0)\n",
    "    plot_opacity(freq, tau, where=highlight_frequency, ax=ax1)\n",
    "    freq_ind = argclosest(freq, highlight_frequency)\n",
    "    plot_jacobian(\n",
    "        alt, jac[freq_ind, :], jacobian_quantity=jacobian_quantity, ax=ax2\n",
    "    )\n",
    "    plot_opacity_profile(alt, tau[:, freq_ind], ax=ax3)\n",
    "\n",
    "fig.tight_layout()\n",
    "fig.savefig(f\"plots/jacobians-{freq_ind}.pdf\")"
   ]
  },
  {
   "cell_type": "markdown",
   "metadata": {},
   "source": [
    "### 2)\n",
    "Change the variable `highlight_frequency` from `None` to any desired  \n",
    "frequency in $[\\text{Hz}]$ within the range of the brightness temperature spectrum  \n",
    "of task 1 and rerun previous cell. This will calculate the water vapor Jacobian and  \n",
    "the opacity $\\tau$ between the top of the atmosphere $z_{TOA}$ and altitude $z$ for the  \n",
    "selected frequency. Additionally, a circle marks the selected frequency in the plot  \n",
    "of the brightness temperature spectrum and in the plot of the zenith opacity.  \n",
    "\n",
    "Write down the altitude of the Jacobian peak and the altitude where the  \n",
    "opacity reaches 1 for some different frequencies and answer following  \n",
    "questions:\n",
    "\n",
    "* Why are the altitude where the opacity reaches 1 and the altitude of  \n",
    "the Jacobian peak not exactly the same?\n",
    "* Why are the Jacobians sometimes positive and sometimes negative?"
   ]
  },
  {
   "cell_type": "markdown",
   "metadata": {},
   "source": []
  }
 ],
 "metadata": {
  "kernelspec": {
   "display_name": "Python 3 (ipykernel)",
   "language": "python",
   "name": "python3"
  },
  "language_info": {
   "codemirror_mode": {
    "name": "ipython",
    "version": 3
   },
   "file_extension": ".py",
   "mimetype": "text/x-python",
   "name": "python",
   "nbconvert_exporter": "python",
   "pygments_lexer": "ipython3",
   "version": "3.10.10"
  },
  "vscode": {
   "interpreter": {
    "hash": "6bd45fef6a38d15b43f43de43ba5066924911f80576952f97fb08adaede44831"
   }
  }
 },
 "nbformat": 4,
 "nbformat_minor": 4
}
