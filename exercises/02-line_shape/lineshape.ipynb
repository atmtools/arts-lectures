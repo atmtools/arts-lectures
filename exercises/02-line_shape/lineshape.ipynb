{
 "cells": [
  {
   "cell_type": "markdown",
   "metadata": {},
   "source": [
    "# Advanced radiation and remote sensing\n",
    "\n",
    "\n",
    "Manfred Brath, Oliver Lemke\n",
    "\n",
    "## Exercise 2: line shape"
   ]
  },
  {
   "cell_type": "code",
   "execution_count": null,
   "metadata": {},
   "outputs": [],
   "source": [
    "%matplotlib widget\n",
    "\n",
    "# Set path to line catalogue\n",
    "import os\n",
    "if \"ARTS_DATA_PATH\" not in os.environ:\n",
    "    os.environ[\"ARTS_DATA_PATH\"] = \"/work/um0878/users/olemke/rtcourse/arts-xml-data/\"\n",
    "\n",
    "import matplotlib.pyplot as plt\n",
    "import numpy as np\n",
    "import typhon as ty\n",
    "from lineshape_module import tag2tex, calculate_absxsec, linewidth\n",
    "\n",
    "# make plot folder, if it is not existing\n",
    "os.makedirs(\"plots\", exist_ok=True)\n",
    "\n",
    "cache = None  "
   ]
  },
  {
   "cell_type": "markdown",
   "metadata": {},
   "source": [
    "The **calculate_absxsec** function calculates absorption cross sections and uses several keyword arguments as inputs, among other lineshape and normalization, see also the function definition in **absorption\\_module.py** or the contextual help. Please use \"VP\" (Voigt-Function) as line shape and \"VVH\"  (van Vleck-Huber) as normalization.\n",
    "\n",
    "### 1) Absorption cross section and coefficient\n",
    "Choose an individual line of for example water vapor and perform calculations over a restricted frequency range for a number of different pressures. Keep the temperature constant.\n",
    "* How does the shape of the spectral lines change?\n",
    "\n",
    "By now we investigated absorption in terms of the absorption cross-section\n",
    "$\\sigma$. Another widely used unit is the absorption coeffiction\n",
    "$\\alpha$. It takes the number concentration $n$ of the absorber\n",
    "into account:\n",
    "$$ \\alpha=n\\cdot\\sigma $$\n",
    "\n",
    "* How does the absorption coefficient in the line centre change, if pressure is changed?\n"
   ]
  },
  {
   "cell_type": "code",
   "execution_count": null,
   "metadata": {},
   "outputs": [],
   "source": [
    "# Define parameters\n",
    "species = \"H2O\"\n",
    "temperature = 300\n",
    "pressure = 101325\n",
    "\n",
    "# Call ARTS to calculate absorption cross sections\n",
    "freq, abs_xsec, cache = calculate_absxsec(species, pressure, temperature, ws=cache)"
   ]
  },
  {
   "cell_type": "code",
   "execution_count": null,
   "metadata": {
    "pycharm": {
     "name": "#%%\n"
    }
   },
   "outputs": [],
   "source": [
    "# example plotting code\n",
    "\n",
    "plt.style.use(ty.plots.styles(\"typhon\"))\n",
    "\n",
    "fig, ax = plt.subplots()\n",
    "ax.plot(freq / 1e9, abs_xsec)\n",
    "ax.set_xlim(freq.min() / 1e9, freq.max() / 1e9)\n",
    "ax.set_ylim(bottom=0)\n",
    "ax.set_xlabel(\"Frequency [GHz]\")\n",
    "ax.set_ylabel(r\"Abs. cross section [$\\sf m^2$]\")\n",
    "ax.set_title(f\"{tag2tex(species)} p:{pressure/100} hPa T:{temperature:0.0f} K\")\n",
    "\n",
    "#uncomment to save the figure\n",
    "# fig.savefig(  # Save figure.\n",
    "#     f\"plots/plot_xsec_{species}_{pressure:.0f}Pa_{temperature:.0f}K.pdf\"\n",
    "# )"
   ]
  },
  {
   "cell_type": "markdown",
   "metadata": {},
   "source": [
    "### 2) Linewidth\n",
    "The full-width at half maximum (FWHM) is a measure of the line width. Use the function **linewidth()** to calculate the FWHM for a given absorption spectrum.\n",
    "* Make a plot of this as a function of altitude (pressure) for a microwave line and an infrared absorption line.\n"
   ]
  }
 ],
 "metadata": {
  "interpreter": {
   "hash": "5d57565d93c1020d3e72d054563c030ffe4fa86cb1289a29ad132df241c82a20"
  },
  "kernelspec": {
   "display_name": "Python 3.9.7 64-bit ('base': conda)",
   "name": "python3"
  },
  "language_info": {
   "codemirror_mode": {
    "name": "ipython",
    "version": 3
   },
   "file_extension": ".py",
   "mimetype": "text/x-python",
   "name": "python",
   "nbconvert_exporter": "python",
   "pygments_lexer": "ipython3",
   "version": "3.9.7"
  },
  "varInspector": {
   "cols": {
    "lenName": 16,
    "lenType": 16,
    "lenVar": 40
   },
   "kernels_config": {
    "python": {
     "delete_cmd_postfix": "",
     "delete_cmd_prefix": "del ",
     "library": "var_list.py",
     "varRefreshCmd": "print(var_dic_list())"
    },
    "r": {
     "delete_cmd_postfix": ") ",
     "delete_cmd_prefix": "rm(",
     "library": "var_list.r",
     "varRefreshCmd": "cat(var_dic_list()) "
    }
   },
   "types_to_exclude": [
    "module",
    "function",
    "builtin_function_or_method",
    "instance",
    "_Feature"
   ],
   "window_display": false
  }
 },
 "nbformat": 4,
 "nbformat_minor": 4
}
