{
 "cells": [
  {
   "cell_type": "markdown",
   "source": [
    "# Advanced radiation and remote sensing\n",
    "\n",
    "Manfred Brath, Oliver Lemke\n",
    "\n",
    "## Exercise 1: Molecule absorption spectra\n"
   ],
   "metadata": {}
  },
  {
   "cell_type": "code",
   "execution_count": null,
   "source": [
    "%matplotlib widget\n",
    "\n",
    "# Set path to line catalogue\n",
    "import os\n",
    "if \"ARTS_DATA_PATH\" not in os.environ:\n",
    "    os.environ[\"ARTS_DATA_PATH\"] = \"/work/um0878/users/olemke/rtcourse/arts-xml-data/\"\n",
    "\n",
    "import matplotlib.pyplot as plt\n",
    "import numpy as np\n",
    "import typhon as ty\n",
    "from absorption_module import tag2tex, calculate_absxsec\n",
    "\n",
    "#speed of light \n",
    "c = ty.constants.c # m/s"
   ],
   "outputs": [],
   "metadata": {}
  },
  {
   "cell_type": "markdown",
   "source": [
    "\n",
    "## 1. Absorption spectra in the microwave spectral range (rotational spectra). \n",
    "\n",
    "Calculate the mulecule absorption spectra of  \n",
    "\n",
    "* $\\text{HCl}$\n",
    "* $\\text{H2O}$\n",
    "* $\\text{O3}$  \n",
    "\n",
    "for a temperature of 200 K and 300 K.\n",
    "\n",
    "* How does the rotational spectra change?\n",
    "* Can you explain the changes?\n"
   ],
   "metadata": {}
  },
  {
   "cell_type": "code",
   "execution_count": null,
   "source": [
    "# Define parameters\n",
    "species = \"HCl\"\n",
    "temperature = 300 # K \n",
    "pressure = 101325 # Pa\n",
    "\n",
    "# Call ARTS to calculate absorption cross sections\n",
    "freq, abs_xsec = calculate_absxsec(species, pressure, temperature)"
   ],
   "outputs": [],
   "metadata": {}
  },
  {
   "cell_type": "code",
   "execution_count": null,
   "source": [
    "# Plot the results.\n",
    "plt.style.use(ty.plots.styles(\"typhon\"))\n",
    "\n",
    "fig, ax = plt.subplots()\n",
    "ax.plot(freq / 1e9, abs_xsec)\n",
    "ax.set_xlim(freq.min() / 1e9, freq.max() / 1e9)\n",
    "ax.set_ylim(bottom=0)\n",
    "ax.set_xlabel(\"Frequency [GHz]\")\n",
    "ax.set_ylabel(r\"Abs. cross section [$\\sf m^2$]\")\n",
    "ax.set_title(f\"{tag2tex(species)} p:{pressure/100} hPa T:{temperature:0.0f} K\")\n",
    "\n",
    "fig.savefig(  # Save figure.\n",
    "    f\"plots/plot_xsec_{species}_{pressure:.0f}Pa_{temperature:.0f}K.pdf\"\n",
    ")"
   ],
   "outputs": [],
   "metadata": {}
  },
  {
   "cell_type": "markdown",
   "source": [
    "\n",
    "## 2. Absorption spectra in the infraded spectral range (vibrational spectra). \n",
    "\n",
    "Calculate the mulecule absorption spectra of  \n",
    "\n",
    "* $\\text{CO2}$  \n",
    "* $\\text{H2O}$  \n",
    "* $\\text{O3}$\n",
    "* $\\text{O2}$\n",
    "* $\\text{N2}$\n",
    "\n",
    "for a temperature of 300 K.\n",
    "\n",
    "Adjust the frequency limits using the keywordargument *fmin* and *fmax*  of **calculate_absxsec**. For plotting in the infrared range, it is common to use wavenumber in $\\left[\\text{cm}^{-1}\\right]$  instead of frequency. Copy the python cells from above and adjust them.\n",
    "\n",
    "* Can you explain the differences between $\\text{CO2}$ and $\\text{H2O}$ on one side and $\\text{O2}$ and $\\text{N2}$ on the other side?"
   ],
   "metadata": {}
  },
  {
   "cell_type": "code",
   "execution_count": null,
   "source": [],
   "outputs": [],
   "metadata": {}
  }
 ],
 "metadata": {
  "kernelspec": {
   "name": "python3",
   "display_name": "Python 3.9.7 64-bit ('base': conda)"
  },
  "language_info": {
   "codemirror_mode": {
    "name": "ipython",
    "version": 3
   },
   "file_extension": ".py",
   "mimetype": "text/x-python",
   "name": "python",
   "nbconvert_exporter": "python",
   "pygments_lexer": "ipython3",
   "version": "3.9.7"
  },
  "varInspector": {
   "cols": {
    "lenName": 16,
    "lenType": 16,
    "lenVar": 40
   },
   "kernels_config": {
    "python": {
     "delete_cmd_postfix": "",
     "delete_cmd_prefix": "del ",
     "library": "var_list.py",
     "varRefreshCmd": "print(var_dic_list())"
    },
    "r": {
     "delete_cmd_postfix": ") ",
     "delete_cmd_prefix": "rm(",
     "library": "var_list.r",
     "varRefreshCmd": "cat(var_dic_list()) "
    }
   },
   "types_to_exclude": [
    "module",
    "function",
    "builtin_function_or_method",
    "instance",
    "_Feature"
   ],
   "window_display": false
  },
  "interpreter": {
   "hash": "5d57565d93c1020d3e72d054563c030ffe4fa86cb1289a29ad132df241c82a20"
  }
 },
 "nbformat": 4,
 "nbformat_minor": 4
}