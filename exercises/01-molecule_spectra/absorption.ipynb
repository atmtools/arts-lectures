{
 "cells": [
  {
   "cell_type": "markdown",
   "metadata": {},
   "source": [
    "# Advanced radiation and remote sensing\n",
    "\n",
    "Manfred Brath, Oliver Lemke\n",
    "\n",
    "## Exercise 1: Molecule absorption spectra"
   ]
  },
  {
   "cell_type": "code",
   "execution_count": null,
   "metadata": {},
   "outputs": [],
   "source": [
    "%matplotlib widget\n",
    "\n",
    "import os\n",
    "import matplotlib.pyplot as plt\n",
    "import numpy as np\n",
    "from absorption import tag2tex, calculate_absxsec, pyarts\n",
    "\n",
    "# make plot folder, if it is not existing\n",
    "os.makedirs(\"plots\", exist_ok=True)\n",
    "\n",
    "#speed of light \n",
    "c = pyarts.arts.constants.c # m/s"
   ]
  },
  {
   "cell_type": "markdown",
   "metadata": {},
   "source": [
    "\n",
    "### 1. Absorption spectra in the microwave spectral range (rotational spectra). \n",
    "\n",
    "Calculate the molecule absorption spectra of  \n",
    "\n",
    "* $\\mathrm{HCl}$\n",
    "* $\\mathrm{H_2O}$\n",
    "* $\\mathrm{O_3}$  \n",
    "\n",
    "for a temperature of 200 K and 300 K.\n",
    "\n",
    "* How does the rotational spectra change?\n",
    "* Can you explain the changes?\n"
   ]
  },
  {
   "cell_type": "code",
   "execution_count": null,
   "metadata": {},
   "outputs": [],
   "source": [
    "# Define parameters\n",
    "species = \"HCl\"\n",
    "temperature = 300 # K \n",
    "pressure = 101325 # Pa\n",
    "\n",
    "# Call ARTS to calculate absorption cross sections\n",
    "freq, abs_xsec = calculate_absxsec(species, pressure, temperature)"
   ]
  },
  {
   "cell_type": "code",
   "execution_count": null,
   "metadata": {},
   "outputs": [],
   "source": [
    "# Plot the results.\n",
    "\n",
    "fig, ax = plt.subplots()\n",
    "ax.plot(freq / 1e9, abs_xsec)\n",
    "ax.set_xlim(freq.min() / 1e9, freq.max() / 1e9)\n",
    "ax.set_ylim(bottom=0)\n",
    "ax.set_xlabel(\"Frequency [GHz]\")\n",
    "ax.set_ylabel(r\"Abs. cross section [$\\sf m^2$]\")\n",
    "ax.set_title(f\"{tag2tex(species)} p:{pressure/100} hPa T:{temperature:0.0f} K\")\n",
    "\n",
    "fig.savefig(  # Save figure.\n",
    "    f\"plots/plot_xsec_{species}_{pressure:.0f}Pa_{temperature:.0f}K.pdf\"\n",
    ")"
   ]
  },
  {
   "cell_type": "markdown",
   "metadata": {},
   "source": [
    "\n",
    "### 2. Absorption spectra in the infrared spectral range (vibrational spectra). \n",
    "\n",
    "Calculate the molecule absorption spectra of  \n",
    "\n",
    "* $\\mathrm{CO_2}$\n",
    "* $\\mathrm{H_2O}$\n",
    "* $\\mathrm{O_3}$\n",
    "* $\\mathrm{O_2}$\n",
    "* $\\mathrm{N_2}$\n",
    "\n",
    "for a temperature of 300 K.\n",
    "\n",
    "Adjust the frequency limits using the keywordargument *fmin* and *fmax*  of `calculate_absxsec`. For plotting in the infrared range, it is common to use wavenumber in $\\left[\\text{cm}^{-1}\\right]$  instead of frequency. Copy the python cells from above and adjust them.\n",
    "\n",
    "* Can you explain the differences between $\\mathrm{CO_2}$, $\\mathrm{H_2O}$ and $\\mathrm{O_3}$ on one side and $\\mathrm{O_2}$ and $\\mathrm{N_2}$ on the other side?"
   ]
  },
  {
   "cell_type": "markdown",
   "metadata": {},
   "source": []
  }
 ],
 "metadata": {
  "kernelspec": {
   "display_name": "Python 3 (ipykernel)",
   "language": "python",
   "name": "python3"
  },
  "language_info": {
   "codemirror_mode": {
    "name": "ipython",
    "version": 3
   },
   "file_extension": ".py",
   "mimetype": "text/x-python",
   "name": "python",
   "nbconvert_exporter": "python",
   "pygments_lexer": "ipython3",
   "version": "3.12.5"
  },
  "varInspector": {
   "cols": {
    "lenName": 16,
    "lenType": 16,
    "lenVar": 40
   },
   "kernels_config": {
    "python": {
     "delete_cmd_postfix": "",
     "delete_cmd_prefix": "del ",
     "library": "var_list.py",
     "varRefreshCmd": "print(var_dic_list())"
    },
    "r": {
     "delete_cmd_postfix": ") ",
     "delete_cmd_prefix": "rm(",
     "library": "var_list.r",
     "varRefreshCmd": "cat(var_dic_list()) "
    }
   },
   "types_to_exclude": [
    "module",
    "function",
    "builtin_function_or_method",
    "instance",
    "_Feature"
   ],
   "window_display": false
  },
  "vscode": {
   "interpreter": {
    "hash": "6bd45fef6a38d15b43f43de43ba5066924911f80576952f97fb08adaede44831"
   }
  }
 },
 "nbformat": 4,
 "nbformat_minor": 4
}
